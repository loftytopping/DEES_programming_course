{
 "cells": [
  {
   "cell_type": "markdown",
   "id": "44153593",
   "metadata": {},
   "source": [
    "This short notebook file is used to create a folder and clone the Git repo into your Google drive so you can continually access all of the content."
   ]
  },
  {
   "cell_type": "code",
   "execution_count": null,
   "id": "b08f5ecf",
   "metadata": {},
   "outputs": [],
   "source": [
    "# Mount the Google Drive at mount\n",
    "from google.colab import drive\n",
    "mount='/content/gdrive'\n",
    "print(\"Colab: mounting Google drive on \", mount)\n",
    "\n",
    "drive.mount(mount)\n",
    "\n",
    "# Switch to the directory on the Google Drive that you want to use\n",
    "import os\n",
    "from os import path\n",
    "    \n",
    "drive_root = mount + \"/My Drive/Colab Notebooks/DEES_first_year\"\n",
    " \n",
    "# Create drive_root if it doesn't exist\n",
    "print(\"\\nColab: making sure \", drive_root, \" exists.\")\n",
    "os.makedirs(drive_root, exist_ok=True)\n",
    "  \n",
    "# Change to the directories to get data files\n",
    "print(\"\\nColab: Changing directory to \", drive_root)\n",
    "%cd $drive_root\n",
    "  \n",
    "!git clone https://github.com/loftytopping/DEES_programming_course"
   ]
  }
 ],
 "metadata": {
  "kernelspec": {
   "display_name": "Python 3 (ipykernel)",
   "language": "python",
   "name": "python3"
  },
  "language_info": {
   "codemirror_mode": {
    "name": "ipython",
    "version": 3
   },
   "file_extension": ".py",
   "mimetype": "text/x-python",
   "name": "python",
   "nbconvert_exporter": "python",
   "pygments_lexer": "ipython3",
   "version": "3.12.1"
  }
 },
 "nbformat": 4,
 "nbformat_minor": 5
}

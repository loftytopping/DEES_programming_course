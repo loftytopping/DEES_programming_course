{
 "cells": [
  {
   "cell_type": "markdown",
   "metadata": {},
   "source": [
    "# Practical 3: Modules and Functions - Introducing Numpy!\n",
    "\n",
    "<div class=\"alert alert-block alert-success\">\n",
    "<b>Objectives:</b> In this practical the overarching objective is for you to practice using modules and functions. Following on from a discussion in class, this will be done through 4 sections in this notebook, each with its own exercise for you to practice:\n",
    "    \n",
    " - 1) [Part 1: Learning how to use the Numpy module](#Part1)\n",
    "      * [Exercise 1: Create a 2D array and populate with specific values](#Exercise1)\n",
    " - 2) [Part 2: Using conditional statements to modify values in an array using Numpy](#Part2)\n",
    "      * [Exercise 2: Create a 2D array and populate with values according to an equation and condition](#Exercise2)\n",
    " - 3) [Part 3: Creating your own function](#Part3)\n",
    "      * [Exercise 3: Create a spooky type-writer](#Exercise3)\n",
    "      * [Exercise 4: Build a function that creates a 2D surface plot of a scalar function](#Exercise4)\n",
    " - 4) [Part 4: Numpy operations on entire arrays](#Part4)\n",
    "      * [Exercise 5: Re-create a function that creates a 2D surface plot of a scalar function](#Exercise5)\n",
    "\n",
    "As with our other notebooks, we will provide you with a template for plotting the results. Also please note that you should not feel pressured to complete every exercise in class. These practicals are designed for you to take outside of class and continue working on them. Do try to finish as much as you can whilst we are here to help. Proposed solutions to all exercises can be found in the 'solutions' folder.\n",
    "</div>"
   ]
  },
  {
   "cell_type": "markdown",
   "metadata": {},
   "source": [
    "<div class=\"alert alert-block alert-danger\">\n",
    "<b> Using Google Colabs </b> Please note that the first code block ensures that we can install the module Cartopy IF we are running this example on Google Colab. Please run this code block and, if you are not on Google Colab, you will recieve a message that confirms this. If you are on Colabs, you will see messages regarding the status of the installation.\n",
    "</div>"
   ]
  },
  {
   "cell_type": "code",
   "execution_count": 1,
   "metadata": {},
   "outputs": [
    {
     "name": "stdout",
     "output_type": "stream",
     "text": [
      "Not running on CoLab\n"
     ]
    }
   ],
   "source": [
    "if 'google.colab' in str(get_ipython()):\n",
    "    from google.colab import drive\n",
    "    mount='/content/gdrive'\n",
    "    print(\"Colab: mounting Google drive on \", mount)\n",
    "    drive.mount(mount)\n",
    "    drive_root = mount + \"/My Drive/Colab Notebooks/DEES_first_year/DEES_programming_course\"\n",
    "    # Change to the directories to get data files\n",
    "    print(\"\\nColab: Changing directory to \", drive_root)\n",
    "    %cd $drive_root\n",
    "else:\n",
    "    print('Not running on CoLab')"
   ]
  },
  {
   "cell_type": "markdown",
   "metadata": {},
   "source": [
    "## First, why modules and functions?\n",
    "\n",
    "As we saw in the lecture for today, a typical computer program is contructed in a modular way. This is beneficial as your program gets bigger. It also allows you to develop and test routines seperately, making improvements or upgrades in a clear and transparent way. \n",
    "\n",
    "A module is a file containing Python definitions and statements. The file name is the module name with the suffix <code> .py </code> appended. It will also likely contain functions we wish to use. For example, if we want to use a module we would use the following command:\n",
    "\n",
    "```python\n",
    "import *module name*\n",
    " ```   \n",
    "Where the module name is the same as the file \n",
    "\n",
    "> *module name.py*\n",
    "   \n",
    "and, if not in the same directory, can be found by the Python interpreter. We will not cover this here, but you can also specify the location of modules you write yourself by changing what is called the Python path or by importing another module that adds the location in the code directly.\n",
    "    \n",
    "From this point on in our course, will be using the [Numpy](https://numpy.org) module. We can import it by including the following statement in our program or by writing this into the command line Python shell:"
   ]
  },
  {
   "cell_type": "code",
   "execution_count": null,
   "metadata": {},
   "outputs": [],
   "source": [
    "import numpy"
   ]
  },
  {
   "cell_type": "markdown",
   "metadata": {},
   "source": [
    "If you position your mouse in the above box and then click the <code> Run </code> button from the notebook menu, nothing appears to have happened. But it has! We now have access to all of Numpy's functionality. We can also import any module and change its name. This is useful if we constantly want to write and refer to a module. If you search for Python examples online, you will invariably see the following:"
   ]
  },
  {
   "cell_type": "code",
   "execution_count": null,
   "metadata": {},
   "outputs": [],
   "source": [
    "import numpy as np"
   ]
  },
  {
   "cell_type": "markdown",
   "metadata": {},
   "source": [
    "This is just common practice and proves to be much easier when using lots of functions held within Numpy, which we will get to shortly. We will also be using a number of other widely used modules in our course, including:\n",
    "\n",
    " - [Pandas](https://pandas.pydata.org): A module dedicated to data structures and data analysis tools.\n",
    " - [Scikit-learn](https://scikit-learn.org/stable/): A module dedicate to developing and deploying machine learning functions\n",
    " - [Scipy](https://www.scipy.org): (pronounced “Sigh Pie”) is a Python-based ecosystem of open-source software for mathematics, science, and engineering [including Numpy]\n",
    " - [Matplotlib](https://matplotlib.org): A module used for plotting, which we will use throughout the course. \n",
    " \n",
    "On the plotting module, we will not provide specific training on this but provide you with templates that cover most basic examples from line, scatter to 3D plots. You can take these templates and modify them for your own benefit. You can also search for help online or via the official Matplotlib webpage: https://matplotlib.org\n",
    "\n",
    "We normally import all of the modules we need at the start of any program. For example, if we want to import all of the above I would write:"
   ]
  },
  {
   "cell_type": "code",
   "execution_count": 1,
   "metadata": {},
   "outputs": [],
   "source": [
    "import numpy as np\n",
    "import pandas as pd\n",
    "import sklearn #the name of the module is different from the official title, but the .py will have this name\n",
    "import matplotlib "
   ]
  },
  {
   "cell_type": "markdown",
   "metadata": {},
   "source": [
    "Sometimes we do not want to import an entire module if we are only using one function out of many. As an example, in the Scikit-learn package I might only want to import a function that allows me to perform a technique known as K-means clustering. By checking the online documentation, I find that I should import this as:"
   ]
  },
  {
   "cell_type": "code",
   "execution_count": null,
   "metadata": {},
   "outputs": [],
   "source": [
    "from sklearn.cluster import KMeans"
   ]
  },
  {
   "cell_type": "markdown",
   "metadata": {},
   "source": [
    "Does the syntax make sense? The use of '.' is important. This is allowing me to access functions within the entire package. We will use this today as we explore the functionality of the Numpy package."
   ]
  },
  {
   "cell_type": "markdown",
   "metadata": {},
   "source": [
    "# Part 1:  Learning how to use the Numpy module  <a name=\"Part1\"></a>\n",
    "\n",
    "Numpy is a package used for numerical computations. It is used inplace of the vanilla Python approaches, as we used in the first lecture, on account of its speed and flexible functionality. For the remaining part of the course we will use Numpy to create and manipulate arrays. Let us go through some example and practice assigments on creating and manipulating 1D and 2D arrays\n",
    "\n",
    "### 1.1) Creating 1D arrays\n",
    "\n",
    "In the following code we import Numpy and use it to intialise two 1D arrays. One will contain integers, the other floating points. Please note that, unlike lists and tuples in Python, we **cannot** blend data types in one array via Numpy. This is ok for our course, however, and related to the efficiency of Numpy arrays. Please see the code snippet below and notice where we use the **'.'** extension to the imported packaged to access a function. We will write our own functions later on in this practical:"
   ]
  },
  {
   "cell_type": "code",
   "execution_count": 3,
   "metadata": {},
   "outputs": [],
   "source": [
    "# Lets import the numpy package and call it np\n",
    "import numpy as np\n",
    "\n",
    "# We can use an internal Numpy function to create a 1D array of fixed length. Lets say we want to create arrays\n",
    "# with 15 elements. For this Im going to use the function numpy.zeros() to create an array filled with 0's.\n",
    "# The official documentation for this function can be found here: https://docs.scipy.org/doc/numpy/reference/generated/numpy.zeros.html\n",
    "# Lets look at our example for now\n",
    "\n",
    "# Im going to use my own variable names for each array. This dosnt matter:\n",
    "Integer_array = np.zeros((15,), dtype=int)\n",
    "Float_array = np.zeros((15,), dtype=float)"
   ]
  },
  {
   "cell_type": "markdown",
   "metadata": {},
   "source": [
    "Before we print these arrays to the screen, let us see what has happened here. The function **numpy.zeros()** is expecting at least two bits of information\n",
    "\n",
    "> numpy.zeros((rows,columns), type of data)\n",
    "\n",
    "Where, in our case, we have specified we want 15 entries but only in one dimension as we have ignored the 'columns' variable. If we wanted to specify a 2D array, or matrix, as we will do later with 15 rows and 4 columns, we would write:\n",
    "\n",
    "> Integer_array = np.zeros((15,4), dtype=int)\n",
    "\n",
    "Notice we also specified our data type in each case. The first uses **'dtype=int'** and the second **'dtype=float'**. The function **expects** this syntax, as you might see in the official documentation. Let us now print our arrays to the screen to see what we have created. The notebook will automatically run code in each block when we first load it. However if you change anything, click inside the box and then click the 'Run' button above:"
   ]
  },
  {
   "cell_type": "code",
   "execution_count": 4,
   "metadata": {},
   "outputs": [
    {
     "name": "stdout",
     "output_type": "stream",
     "text": [
      "The integer array looks like >  [0 0 0 0 0 0 0 0 0 0 0 0 0 0 0]\n",
      "The floating point array looks like >  [0. 0. 0. 0. 0. 0. 0. 0. 0. 0. 0. 0. 0. 0. 0.]\n"
     ]
    }
   ],
   "source": [
    "# Simply print the arrays to screen\n",
    "\n",
    "print(\"The integer array looks like > \",Integer_array)\n",
    "print(\"The floating point array looks like > \",Float_array)\n",
    "\n",
    "# You should be able to see a difference in format, thus precision."
   ]
  },
  {
   "cell_type": "markdown",
   "metadata": {},
   "source": [
    "### 1.2) 2D Numpy arrays and accessing/changing values\n",
    "\n",
    "Now we can practice creating 2D arrays but also accessing and modifying/creating values. Let us create a 2D matrix that has 3 rows and 3 columns and then put a floating point number in every cell. Note the use of the **':'** operator that allows us to straddle the start and end indices of either a set of rows of columns. \n",
    "\n",
    "\n",
    "\n",
    "\n",
    "Now let us read through the code in the box below."
   ]
  },
  {
   "cell_type": "code",
   "execution_count": 5,
   "metadata": {},
   "outputs": [
    {
     "name": "stdout",
     "output_type": "stream",
     "text": [
      " first entry method result =  [[298.15 298.15 298.15]\n",
      " [298.15 298.15 298.15]\n",
      " [298.15 298.15 298.15]]\n",
      " second entry method result =  [[298.15 298.15 298.15]\n",
      " [298.15 298.15 298.15]\n",
      " [298.15 298.15 298.15]]\n",
      " third entry method result =  [[298.15 298.15 298.15]\n",
      " [298.15 298.15 298.15]\n",
      " [298.15 298.15 298.15]]\n",
      " fourth entry method result =  [[298.15 298.15 298.15]\n",
      " [298.15 298.15 298.15]\n",
      " [298.15 298.15 298.15]]\n"
     ]
    }
   ],
   "source": [
    "# Create an empty matrix, of 3 rows and 3 columns, using the numpy.zeros() function\n",
    "matrix = np.zeros((3,3), dtype=float)\n",
    "\n",
    "# Now lets put the value 298.15 in each cell. There are multiple ways we could do this. I demonstrate 4 \n",
    "# below, where one method is significantly quicker than the other from a data entry perspective\n",
    "\n",
    "# 1) Enter all values manually. 1st row and 1st column, 1st row and 2nd column etc etc\n",
    "matrix[0,0] = 298.15; matrix[0,1] = 298.15; matrix[0,2] = 298.15\n",
    "matrix[1,0] = 298.15; matrix[1,1] = 298.15; matrix[1,2] = 298.15\n",
    "matrix[2,0] = 298.15; matrix[2,1] = 298.15; matrix[2,2] = 298.15\n",
    "# Lets print the matrix to the screen\n",
    "print(\" first entry method result = \", matrix)\n",
    "\n",
    "# 2) Assign the value to every column as a function of each row using the ':' operator\n",
    "matrix = np.zeros((3,3), dtype=float)\n",
    "matrix[0,0:3] = 298.15\n",
    "matrix[1,0:3] = 298.15\n",
    "matrix[2,0:3] = 298.15\n",
    "# Lets print the matrix to the screen\n",
    "print(\" second entry method result = \", matrix)\n",
    "\n",
    "# 3) Assign the value to every row as a function of each column using the ':' operator\n",
    "matrix = np.zeros((3,3), dtype=float)\n",
    "matrix[0:3,0] = 298.15\n",
    "matrix[0:3,1] = 298.15\n",
    "matrix[0:3,2] = 298.15\n",
    "# Lets print the matrix to the screen\n",
    "print(\" third entry method result = \", matrix)\n",
    "\n",
    "# 4) Assign every cell using the ':' operator in 2 dimensions\n",
    "matrix = np.zeros((3,3), dtype=float)\n",
    "matrix[0:3,0:3] = 298.15\n",
    "# Lets print the matrix to the screen\n",
    "print(\" fourth entry method result = \", matrix)\n"
   ]
  },
  {
   "cell_type": "markdown",
   "metadata": {},
   "source": [
    "Remember that, in Python, indexing starts at 0. For a 2D Numpy array, a nice schematic is provided by [O'Reilly](https://www.oreilly.com/library/view/python-for-data/9781449323592/ch04.html) below.\n",
    "\n",
    "![](https://github.com/loftytopping/DEES_programming_course/blob/master/images/Nump_array_indexing.png?raw=true)\n",
    "\n",
    "\n"
   ]
  },
  {
   "cell_type": "markdown",
   "metadata": {},
   "source": [
    "<div class=\"alert alert-block alert-success\">\n",
    "<b> Exercise 1: Create a 2D array and add specific values.  <a name=\"Exercise1\"></a> </b> Now it is your turn to practice these operations. In the box below, you are tasked with the following:\n",
    "\n",
    " - Create an empty 2D array with 5 rows and 6 columns, containing floating point values. \n",
    " - For the first two rows the array will contain a value of 2.5\n",
    " - For the remaining rows to contain a value of 5.5.  \n",
    " - Print the array to the screen so you can check your answer.\n",
    " \n",
    "Your answer should look like this:\n",
    "\n",
    "```python\n",
    "matrix result =  [[2.5 2.5 2.5 2.5 2.5 2.5]\n",
    " [2.5 2.5 2.5 2.5 2.5 2.5]\n",
    " [5.5 5.5 5.5 5.5 5.5 5.5]\n",
    " [5.5 5.5 5.5 5.5 5.5 5.5]\n",
    " [5.5 5.5 5.5 5.5 5.5 5.5]]\n",
    "```\n",
    "</div>\n",
    "\n",
    "<div class=\"alert alert-block alert-warning\">\n",
    "    <b>HINT</b>: Rather than writing an entry for each cell, why not try using the technique demonstrated in example 2 and 3 above. </div>"
   ]
  },
  {
   "cell_type": "code",
   "execution_count": 6,
   "metadata": {
    "scrolled": true
   },
   "outputs": [
    {
     "name": "stdout",
     "output_type": "stream",
     "text": [
      " matrix result =  [[2.5 2.5 2.5 2.5 2.5 2.5]\n",
      " [2.5 2.5 2.5 2.5 2.5 2.5]\n",
      " [5.5 5.5 5.5 5.5 5.5 5.5]\n",
      " [5.5 5.5 5.5 5.5 5.5 5.5]\n",
      " [5.5 5.5 5.5 5.5 5.5 5.5]]\n"
     ]
    }
   ],
   "source": [
    "#------'INSERT CODE HERE'------\n",
    "\n",
    "# Initialise an empty 2D array using the np.zeros function\n",
    "practice_matrix = np.zeros((5,6), dtype=float)\n",
    "\n",
    "# Populate the array with appropriate values\n",
    "practice_matrix[0:2,0:7]=2.5\n",
    "practice_matrix[2:6,0:7]=5.5\n",
    "\n",
    "#------------------------------\n",
    "\n",
    "# Lets print the matrix to the screen\n",
    "print(\" matrix result = \", practice_matrix)\n"
   ]
  },
  {
   "cell_type": "markdown",
   "metadata": {},
   "source": [
    "# Part 2: Using conditional statements to modify values in an array using Numpy  <a name=\"Part2\"></a>\n",
    "\n",
    "In the first two practicals we came across **for loops** and conditional statements. We can combine these with Numpy arrays to start building a basis for numerical models. We can then turn a given combination of the above into a function that we can call over and over again. Let us start with an example. In the code snippet below, you can see a loop that populates a 1D Numpy array <code> Y </code> with 100 cells, according to the function:\n",
    "\n",
    "\\begin{eqnarray} \n",
    "Y = X^{2.0}\n",
    "\\end{eqnarray}\n",
    "\n",
    "Where <code> X </code> is an array that contains values from 1 to 100. This example combines a number of operations we have covered so far, including:\n",
    "\n",
    " - Initialising a 1D Numpy array of specific size, designed for floating point values\n",
    " - Creating a 'for' loop that cycles through integer values\n",
    " - Accessing a specific entry in a 1D array through an index value, remembering that Python indexing starts at 0.\n",
    " - Raising a number to a power\n",
    " - Print values to the screen\n",
    " \n",
    "When you run the code below you will see the output:\n",
    "\n",
    "```python\n",
    "the value of the 98th component of x is  98.0\n",
    "the value of the 98th component of y is  9604.0\n",
    "the value of the 99th component of x is  99.0\n",
    "the value of the 99th component of y is  9801.0\n",
    "the value of the 100th component of x is  100.0\n",
    "the value of the 100th component of y is  10000.0\n",
    "```"
   ]
  },
  {
   "cell_type": "code",
   "execution_count": 6,
   "metadata": {},
   "outputs": [
    {
     "name": "stdout",
     "output_type": "stream",
     "text": [
      "the value of the 98th component of x is  98.0\n",
      "the value of the 98th component of y is  9604.0\n",
      "the value of the 99th component of x is  99.0\n",
      "the value of the 99th component of y is  9801.0\n",
      "the value of the 100th component of x is  100.0\n",
      "the value of the 100th component of y is  10000.0\n"
     ]
    }
   ],
   "source": [
    "# First create an empty array for both x and y\n",
    "x = np.zeros((100,), dtype=float)\n",
    "y = np.zeros((100,), dtype=float)\n",
    "\n",
    "# Now implement a *for* loop that cycles through 100 values and creates the X and thus Y values\n",
    "for step in range(100):\n",
    "    x[step] = step+1 # We need to create the x array starting from 1 \n",
    "    y[step] = x[step]**2.0\n",
    "    \n",
    "# print the final 3 values for both x and y\n",
    "print(\"the value of the 98th component of x is \", x[97])\n",
    "print(\"the value of the 98th component of y is \", y[97])\n",
    "    \n",
    "print(\"the value of the 99th component of x is \", x[98])\n",
    "print(\"the value of the 99th component of y is \", y[98])\n",
    "\n",
    "print(\"the value of the 100th component of x is \", x[99])\n",
    "print(\"the value of the 100th component of y is \", y[99])"
   ]
  },
  {
   "cell_type": "markdown",
   "metadata": {},
   "source": [
    "What about accessing and modifying values in a 2D array? We can 'nest' multiple *for* loops to deal with each dimension. Below is an example where we populate values in a 2D array, of 100 rows and 100 columns, according to the following function: \n",
    "\n",
    "\\begin{align*}\n",
    "z = x+y\n",
    "\\end{align*}\n",
    "\n",
    "Where variable <code> X </code> represents a row index and <code> Y </code> represents the column index. <code> Z </code> is a 2D array which is then plotted using the matplotlib package, assuming you use a 2D Numpy array for <code> Z </code>. Read through the comments associated with each step, can you recognise the stages of constructing this set of operations?"
   ]
  },
  {
   "cell_type": "code",
   "execution_count": 2,
   "metadata": {},
   "outputs": [
    {
     "data": {
      "image/png": "[encoded data removed]",
      "text/plain": [
       "<Figure size 432x288 with 2 Axes>"
      ]
     },
     "metadata": {
      "needs_background": "light"
     },
     "output_type": "display_data"
    }
   ],
   "source": [
    "# Import the modules we will be using\n",
    "import numpy as np\n",
    "import matplotlib.pyplot as plt\n",
    "\n",
    "# Initialise the Numpy arrays\n",
    "x = np.zeros((100,), dtype=float)\n",
    "y = np.zeros((100,), dtype=float)\n",
    "z = np.zeros((100,100), dtype=float)\n",
    "\n",
    "# Lets populate our x and y arrays with values from 1 to 100\n",
    "for step in range(100):\n",
    "    x[step]=step+1 # why do we add 1?\n",
    "    y[step]=step+1 # why do we add 1?\n",
    "\n",
    "# Now create a nested loop that cycles through each dimension to produce our z array\n",
    "# Thus the first loop cycles through each row\n",
    "for row in range(100):\n",
    "    # The second loop cycles through each column. \n",
    "    for column in range(100):\n",
    "        z[row,column]=x[row]+y[column]\n",
    "        \n",
    "# Plot the results. Dont worry about the Matplotlib template for now.\n",
    "plt.contourf(x, y, z, 20, cmap='RdGy')\n",
    "plt.colorbar();\n",
    "plt.xlabel('x')\n",
    "plt.ylabel('y')\n",
    "plt.show()"
   ]
  },
  {
   "cell_type": "markdown",
   "metadata": {},
   "source": [
    "Before we move on to the second exercise, let us look at what is happening in our 'nested' loop. In English, the operation is designed to populate values in our 2D array, or matrix, as follows:\n",
    "\n",
    "1) Specify a for loop for the row index. Lets call this variable 'row'. This cycles through values from 1 to 100. The index is our row number.\n",
    "\n",
    "2) For each row number, lets cycle through each column index. Lets call this variable 'col'. This is equivalent to scanning across a matrix left-right.\n",
    "\n",
    "3) Now we have a value for a row and column index. Use these indices to extract values from our X and Y arrays, as X[row] and Y[col]. \n",
    "\n",
    "4) Use these values to create an entry into our 2D array 'Z' as Z[row,col] = X[row]+Y[col].\n"
   ]
  },
  {
   "cell_type": "markdown",
   "metadata": {},
   "source": [
    "<div class=\"alert alert-block alert-success\">\n",
    "<b> Exercise 2: Create a 2D array and populate with values according to an equation  <a name=\"Exercise2\"></a> </b> \n",
    "\n",
    "In this practice exercise, your goal is to use a *for* loop to populate a 2D Numpy array with 200 rows and 300 columns based on the following equation:\n",
    "\n",
    "\\begin{align*}\n",
    "z = x+y*x\n",
    "\\end{align*}\n",
    "\n",
    "Where variable <code> X </code> is an array that holds the row index and <code> Y </code> is an array that holds the column index. <code> Z </code> is a 2D array which is then plotted using the matplotlib package. If successful, your simulation should generate a plot given by the figure below.\n",
    "\n",
    "![](https://github.com/loftytopping/DEES_programming_course/blob/master/images/Practical3_example.png?raw=true)\n",
    "\n",
    "\n",
    "</div>\n",
    "\n",
    "<div class=\"alert alert-block alert-warning\">\n",
    "    <b>HINT</b> You will need to use a nested 'for' loop to cycle through the rows and columns. Check out our previous example above. Remember that Python expects indentation after the ':' operator.</div>"
   ]
  },
  {
   "cell_type": "code",
   "execution_count": 7,
   "metadata": {},
   "outputs": [
    {
     "data": {
      "image/png": "[encoded data removed]",
      "text/plain": [
       "<Figure size 432x288 with 2 Axes>"
      ]
     },
     "metadata": {
      "needs_background": "light"
     },
     "output_type": "display_data"
    }
   ],
   "source": [
    "# Import the modules we will be using\n",
    "import numpy as np\n",
    "import matplotlib.pyplot as plt\n",
    "\n",
    "# Initialise the arrays\n",
    "x = np.zeros((100,), dtype=float)\n",
    "y = np.zeros((100,), dtype=float)\n",
    "z = np.zeros((100,100), dtype=float)\n",
    "\n",
    "#  ------- 'INSERT CODE HERE' ---------\n",
    "# Lets populate our x and y arrays with values from 1 to 100\n",
    "for step in range(100):\n",
    "    x[step]=step+1 # why do we add 1?\n",
    "    y[step]=step+1 # why do we add 1?\n",
    "\n",
    "#  ------- 'INSERT CODE HERE' ---------\n",
    "# Now create a nested loop that cycles through each dimension to produce our z array\n",
    "# Thus the first loop cycles through each row\n",
    "for row in range(100):\n",
    "    # The second loop cycles through each column. \n",
    "    for column in range(100):\n",
    "        z[row,column]=x[row]+y[column]*x[row]\n",
    "        \n",
    "# Plot the results. Dont worry about the Matplotlib template for now.\n",
    "plt.contourf(x, y, z, 20, cmap='RdGy')\n",
    "plt.colorbar();\n",
    "plt.xlabel('x')\n",
    "plt.ylabel('y')\n",
    "plt.show()"
   ]
  },
  {
   "cell_type": "markdown",
   "metadata": {},
   "source": [
    "## Part 3: Creating your own function <a name=\"Part3\"></a>\n",
    "\n",
    "In the same way we have started to use functions included within the Numpy package, we can write our own functions to perform specific tasks. This might be a numerical operation, or string manipulation task. This brings us closer to modular software development. In the example below we define a function with the keyword **'def'** and then call the function to receive its output. For example:"
   ]
  },
  {
   "cell_type": "code",
   "execution_count": 1,
   "metadata": {},
   "outputs": [
    {
     "name": "stdout",
     "output_type": "stream",
     "text": [
      "All work and no play makes Jack a dull boy\n"
     ]
    }
   ],
   "source": [
    "# Lets define a function called 'test'. This function will simply write a message to the screen.\n",
    "\n",
    "def test():\n",
    "    print(\"All work and no play makes Jack a dull boy\")\n",
    "    return\n",
    "\n",
    "# Call the function\n",
    "test()"
   ]
  },
  {
   "cell_type": "markdown",
   "metadata": {},
   "source": [
    "Let us understand a few important features used in defining the function:\n",
    "\n",
    " - The 'def' keyword defined a function by its name.\n",
    " - The parenthesis () can take a list of inputs that the function needs.\n",
    " - The function name and input list is terminated with a colon ':'.\n",
    " - The next line, thus internal workings of the function, is *idented* by 4 spaces.\n",
    " - A 'return' statement closes the function definition.\n",
    " \n",
    "<div class=\"alert alert-block alert-success\">\n",
    "<b> Exercise 3: Re-create the repeated output from the typerwriter in the Shining...  <a name=\"Exercise3\"></a> </b> \n",
    "\n",
    "    Using the example function above, combine this function call with a <code> FOR </code> loop to print 30 instances of the sentence to the screen.\n",
    "\n",
    "</div>\n",
    " \n",
    "<div class=\"alert alert-block alert-warning\">\n",
    "    <b>HINT</b>: Remember that a <code> FOR </code> loop takes the format: 'for \"variable\" in range(number):' </div>"
   ]
  },
  {
   "cell_type": "code",
   "execution_count": 9,
   "metadata": {},
   "outputs": [
    {
     "name": "stdout",
     "output_type": "stream",
     "text": [
      "All work and no play makes Jack a dull boy\n",
      "All work and no play makes Jack a dull boy\n",
      "All work and no play makes Jack a dull boy\n",
      "All work and no play makes Jack a dull boy\n",
      "All work and no play makes Jack a dull boy\n",
      "All work and no play makes Jack a dull boy\n",
      "All work and no play makes Jack a dull boy\n",
      "All work and no play makes Jack a dull boy\n",
      "All work and no play makes Jack a dull boy\n",
      "All work and no play makes Jack a dull boy\n",
      "All work and no play makes Jack a dull boy\n",
      "All work and no play makes Jack a dull boy\n",
      "All work and no play makes Jack a dull boy\n",
      "All work and no play makes Jack a dull boy\n",
      "All work and no play makes Jack a dull boy\n",
      "All work and no play makes Jack a dull boy\n",
      "All work and no play makes Jack a dull boy\n",
      "All work and no play makes Jack a dull boy\n",
      "All work and no play makes Jack a dull boy\n",
      "All work and no play makes Jack a dull boy\n",
      "All work and no play makes Jack a dull boy\n",
      "All work and no play makes Jack a dull boy\n",
      "All work and no play makes Jack a dull boy\n",
      "All work and no play makes Jack a dull boy\n",
      "All work and no play makes Jack a dull boy\n",
      "All work and no play makes Jack a dull boy\n",
      "All work and no play makes Jack a dull boy\n",
      "All work and no play makes Jack a dull boy\n",
      "All work and no play makes Jack a dull boy\n",
      "All work and no play makes Jack a dull boy\n"
     ]
    }
   ],
   "source": [
    "# Lets define a function called 'test'. This function will simply write a message to the screen.\n",
    "\n",
    "def test():\n",
    "    print(\"All work and no play makes Jack a dull boy\")\n",
    "    return\n",
    "\n",
    "# Call the function in a 'for' loop, 30 times\n",
    "for step in range(30):\n",
    "    test()"
   ]
  },
  {
   "cell_type": "markdown",
   "metadata": {},
   "source": [
    "Before we move on to the final exercise, let's look at another example on populating a 2D array with the function: \n",
    "\n",
    "\\begin{align*}\n",
    "z = x+y\n",
    "\\end{align*}\n",
    "\n",
    "Where we are going to implement this equation as a function, which is passed arrays <code> X </code> and <code> Y </code> and returns <code> Z </code>. Read through the code below and see if this makes sense. Can you notice where we have now put the nested loops inside a new function?"
   ]
  },
  {
   "cell_type": "code",
   "execution_count": 2,
   "metadata": {},
   "outputs": [
    {
     "data": {
      "image/png": "[encoded data removed]",
      "text/plain": [
       "<Figure size 432x288 with 2 Axes>"
      ]
     },
     "metadata": {
      "needs_background": "light"
     },
     "output_type": "display_data"
    }
   ],
   "source": [
    "# Import the modules we will be using\n",
    "import numpy as np\n",
    "import matplotlib.pyplot as plt\n",
    "\n",
    "# Initialise the arrays\n",
    "x = np.zeros((100,), dtype=float)\n",
    "y = np.zeros((100,), dtype=float)\n",
    "\n",
    "# Lets populate our x and y arrays with values from 1 to 100\n",
    "for step in range(100):\n",
    "    x[step]=step+1 # why do we add 1?\n",
    "    y[step]=step+1 # why do we add 1?\n",
    "\n",
    "# Implement the equation z=x+y as a function\n",
    "def create_z_array(x,y):\n",
    "    # Initialise the z array\n",
    "    z = np.zeros((100,100), dtype=float)\n",
    "    # Now create a nested loop that cycles through each dimension to produce our z array\n",
    "    # Thus the first loop cycles through each row\n",
    "    for row in range(100):\n",
    "        # The second loop cycles through each column. \n",
    "        for column in range(100):\n",
    "            z[row,column]=x[row]+y[column]\n",
    "            \n",
    "    # return the z array\n",
    "    return z\n",
    "\n",
    "# Call the function that generates our z array\n",
    "z=create_z_array(x,y)\n",
    "        \n",
    "# Plot the results. Dont worry about the Matplotlib template for now.\n",
    "plt.contourf(x, y, z, 20, cmap='RdGy')\n",
    "plt.colorbar();\n",
    "plt.xlabel('x')\n",
    "plt.ylabel('y')\n",
    "plt.show()"
   ]
  },
  {
   "cell_type": "markdown",
   "metadata": {},
   "source": [
    "<div class=\"alert alert-block alert-success\">\n",
    "<b> Exercise 4: Build a function that creates a 2D surface plot of a scalar function <a name=\"Exercise4\"></a> </b> \n",
    "    \n",
    "In this practice assignment, you are tasked with inserting all of the code [except the plotting function] to replicate the function used in Practice '2': \n",
    "\n",
    "\\begin{align*}\n",
    "z = x+y*x\n",
    "\\end{align*}\n",
    "\n",
    "Where variable <code> X </code> represents the row number and <code> Y </code> represented the column number. In this instance we have 200 rows and 200 columns and the procedure to populate our <code> Z </code> array should be included as a function.\n",
    "\n",
    "</div>\n",
    "\n",
    "<div class=\"alert alert-block alert-warning\">\n",
    "    <b>HINT</b>: The majority of this code has already been written earlier in this practical, but you need to reformat this to be called as a function. Also note the change in number of rows and columns. </div>"
   ]
  },
  {
   "cell_type": "code",
   "execution_count": 10,
   "metadata": {},
   "outputs": [
    {
     "data": {
      "image/png": "[encoded data removed]",
      "text/plain": [
       "<Figure size 432x288 with 2 Axes>"
      ]
     },
     "metadata": {
      "needs_background": "light"
     },
     "output_type": "display_data"
    }
   ],
   "source": [
    "# Import the modules we will be using\n",
    "import numpy as np\n",
    "import matplotlib.pyplot as plt\n",
    "\n",
    "# Initialise the arrays\n",
    "x = np.zeros((300,), dtype=float)\n",
    "y = np.zeros((300,), dtype=float)\n",
    "z = np.zeros((300,300), dtype=float)\n",
    "\n",
    "#  ------- 'INSERT CODE HERE' ---------\n",
    "# Lets populate our x and y arrays with values from 1 to 100\n",
    "for step in range(300):\n",
    "    x[step]=step+1 # why do we add 1?\n",
    "    y[step]=step+1 # why do we add 1?\n",
    "\n",
    "#  ------- 'INSERT CODE HERE' ---------\n",
    "# Now create a nested loop that cycles through each dimension to produce our z array\n",
    "# Thus the first loop cycles through each row\n",
    "def create_z(x,y,z):\n",
    "    for row in range(300):\n",
    "        # The second loop cycles through each column. \n",
    "        for column in range(300):\n",
    "            z[row,column]=x[row]+y[column]*x[row]\n",
    "    \n",
    "    return z\n",
    "        \n",
    "z=create_z(x,y,z)\n",
    "\n",
    "# Plot the results. Dont worry about the Matplotlib template for now.\n",
    "plt.contourf(x, y, z, 20, cmap='RdGy')\n",
    "plt.colorbar();\n",
    "plt.xlabel('x')\n",
    "plt.ylabel('y')\n",
    "plt.show()"
   ]
  },
  {
   "cell_type": "markdown",
   "metadata": {},
   "source": [
    "# Part 4:  Numpy operations on entire arrays  <a name=\"Part4\"></a>\n",
    "\n",
    "Once we start writing *large* modules we need to start thinking about how efficient our procedures are. In many areas of research, time of computation is a fundamental hurdle to increasing complexity. We will not cover optimisation in this course, but it is useful to start considering where we might use more efficient options in numerical computation. The standard Numpy library offers us multiple options which also helps to reduce the size of our code and, potentially, make it more readable!\n",
    "\n",
    "### 4.1) Operations on a 1D Array\n",
    "\n",
    "A [nice example](https://www.pluralsight.com/guides/overview-basic-numpy-operations) is provided by using arithmetic operators with Numpy. If we have 2 arrays, array1 and array2, created through:\n",
    "\n",
    "```python\n",
    "array1 = np.array([10,20,30,40,50], dtype=int)\n",
    "array2 = np.array([0,1,2,3,4], dtype=int)\n",
    "array3 = array1+array2\n",
    "```\n",
    "what might our answer look like? Lets run this code below and print to the screen"
   ]
  },
  {
   "cell_type": "code",
   "execution_count": 1,
   "metadata": {},
   "outputs": [
    {
     "name": "stdout",
     "output_type": "stream",
     "text": [
      "array3 =  [10 21 32 43 54]\n"
     ]
    }
   ],
   "source": [
    "import numpy as np\n",
    "\n",
    "array1 = np.array([10,20,30,40,50], dtype=int)\n",
    "array2 = np.array([0,1,2,3,4], dtype=int)\n",
    "array3 = array1+array2\n",
    "\n",
    "print(\"array3 = \", array3)"
   ]
  },
  {
   "cell_type": "markdown",
   "metadata": {},
   "source": [
    "Rather than cycling through each element using a loop, this was much easier to write. What exactly is going on? The [visualisation](https://www.pluralsight.com/guides/overview-basic-numpy-operations) below should help:\n",
    "\n",
    "![](https://github.com/loftytopping/DEES_programming_course/blob/master/images/adding_arrays.png?raw=true)"
   ]
  },
  {
   "cell_type": "markdown",
   "metadata": {},
   "source": [
    "### 4.2) Operations on a 2D Array\n",
    "\n",
    "Unsurprisingly, we can also perform common arithmetic operations on 2D arrays. For example, let us add two 2D arrays [matrices] tother as per the following example:\n"
   ]
  },
  {
   "cell_type": "code",
   "execution_count": 3,
   "metadata": {},
   "outputs": [
    {
     "name": "stdout",
     "output_type": "stream",
     "text": [
      "[[4. 4. 4.]\n",
      " [4. 4. 4.]\n",
      " [4. 4. 4.]]\n"
     ]
    }
   ],
   "source": [
    "# Initiliase two empty matrices, A and B\n",
    "A = np.zeros((3,3), dtype=float)\n",
    "B = np.zeros((3,3), dtype=float)\n",
    "\n",
    "# Set all cells in A to 2.4 and all cells in B to 1.6.\n",
    "A[:,:]=2.4\n",
    "B[:,:]=1.6\n",
    "\n",
    "# Lets print the result of adding both together\n",
    "print(A+B)"
   ]
  },
  {
   "cell_type": "markdown",
   "metadata": {},
   "source": [
    "All the arithmetic operations work in a similar way. We can also multiply or divide the arrays. In the example below, see how we multiply matrix <code> A </code> by matrix <code> B </code>."
   ]
  },
  {
   "cell_type": "code",
   "execution_count": 4,
   "metadata": {},
   "outputs": [
    {
     "name": "stdout",
     "output_type": "stream",
     "text": [
      "[[3.84 3.84 3.84]\n",
      " [3.84 3.84 3.84]\n",
      " [3.84 3.84 3.84]]\n"
     ]
    }
   ],
   "source": [
    "print(A*B)"
   ]
  },
  {
   "cell_type": "markdown",
   "metadata": {},
   "source": [
    "We can demonstrate how each cell is multiplied together with another example:"
   ]
  },
  {
   "cell_type": "code",
   "execution_count": 10,
   "metadata": {},
   "outputs": [
    {
     "name": "stdout",
     "output_type": "stream",
     "text": [
      "[[9 2]\n",
      " [0 1]]\n"
     ]
    }
   ],
   "source": [
    "# Create two new matrices by manually writing out a Numpy array\n",
    "C = np.array([[3,2],[0,1]])\n",
    "D = np.array([[3,1],[2,1]])\n",
    "# Multiply them both together. Can you confirm each cell has been acted on independently?\n",
    "print(C*D)"
   ]
  },
  {
   "cell_type": "markdown",
   "metadata": {},
   "source": [
    "<div class=\"alert alert-block alert-success\">\n",
    "<b> Exercise 5: Re-create a function that creates a 2D surface plot of a scalar function <a name=\"Exercise5\"></a> </b> \n",
    "    \n",
    "In this practice assignment, you are tasked with inserting all of the code [except the plotting function] to replicate the function used in Exercise '4': \n",
    "\n",
    "\\begin{align*}\n",
    "z = x+y*x\n",
    "\\end{align*}\n",
    "\n",
    "Where variable <code> X </code> represents the row number and <code> Y </code> represented the column number. In this instance we have 200 rows and 200 columns and the procedure to populate our <code> Z </code> array should be included as a function. To start you off, I have initialised both <code> X </code> and <code> Y </code> as 2D arrays for you to use\n",
    "\n",
    "</div>\n",
    "\n",
    "<div class=\"alert alert-block alert-warning\">\n",
    "    <b>HINT</b>: The majority of this code has already been written earlier in this practical, but you need to reformat this to be called as a function. Also note the change in number of rows and columns. </div>"
   ]
  },
  {
   "cell_type": "code",
   "execution_count": 7,
   "metadata": {},
   "outputs": [
    {
     "data": {
      "image/png": "[encoded data removed]",
      "text/plain": [
       "<Figure size 432x288 with 2 Axes>"
      ]
     },
     "metadata": {
      "needs_background": "light"
     },
     "output_type": "display_data"
    }
   ],
   "source": [
    "# Import the modules we will be using\n",
    "import numpy as np\n",
    "import matplotlib.pyplot as plt\n",
    "\n",
    "# Initialise the arrays\n",
    "x = np.zeros((300,300), dtype=float)\n",
    "y = np.zeros((300,300), dtype=float)\n",
    "z = np.zeros((300,300), dtype=float)\n",
    "\n",
    "# Lets populate our x and y arrays with values from 1 to 100\n",
    "for step in range(300):\n",
    "    x[step,:]=step+1 # why do we add 1?\n",
    "    y[:,step]=step+1 # why do we add 1?\n",
    "\n",
    "#  ------- 'INSERT CODE HERE' ---------\n",
    "# Now create a nested loop that cycles through each dimension to produce our z array\n",
    "# Thus the first loop cycles through each row\n",
    "def create_z(x,y,z):\n",
    "    z=x+y*x\n",
    "    return z\n",
    "#  ------------------------------------\n",
    "\n",
    "        \n",
    "z=create_z(x,y,z)\n",
    "\n",
    "# Plot the results. Dont worry about the Matplotlib template for now.\n",
    "plt.contourf(x, y, z, 20, cmap='RdGy')\n",
    "plt.colorbar();\n",
    "plt.xlabel('x')\n",
    "plt.ylabel('y')\n",
    "plt.show()"
   ]
  },
  {
   "cell_type": "code",
   "execution_count": null,
   "metadata": {},
   "outputs": [],
   "source": []
  }
 ],
 "metadata": {
  "kernelspec": {
   "display_name": "Python 3 (ipykernel)",
   "language": "python",
   "name": "python3"
  },
  "language_info": {
   "codemirror_mode": {
    "name": "ipython",
    "version": 3
   },
   "file_extension": ".py",
   "mimetype": "text/x-python",
   "name": "python",
   "nbconvert_exporter": "python",
   "pygments_lexer": "ipython3",
   "version": "3.12.1"
  }
 },
 "nbformat": 4,
 "nbformat_minor": 4
}

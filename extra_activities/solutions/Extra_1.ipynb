{
 "cells": [
  {
   "cell_type": "markdown",
   "metadata": {},
   "source": [
    "## Practice 1\n",
    "\n",
    "In this notebook the challenge is to use Pandas, and appropriate ancillary modules, to load in data on passengers from the Titanic. The dataset, found on a [public repository](https://towardsdatascience.com/all-the-datasets-you-need-to-practice-data-science-skills-and-make-a-great-portfolio-857a348883b5), has these columns: \n",
    "\n",
    " - PassengerId\n",
    " - Survived\n",
    " - P-class\n",
    " - Name\n",
    " - Sex\n",
    " - Age\n",
    " - SibSp\n",
    " - Parch\n",
    " - Ticket\n",
    " - Fare\n",
    " - Cabin\n",
    " - Embarked.\n",
    " \n",
    "You are given no context on any aspects of the data. Your challenge is to use Pandas to explore the dataset and produce at least two outputs:\n",
    "\n",
    " - 1) Histograms on the age distribution for male and females in each class. Try to make sure each x axis has the same range.\n",
    " - 2) Investigate features [class, age, sex] on those who survived and those who didnt.\n",
    " \n",
    "The relevant class notebooks which may help here are Practical sessions 5,6,7 and 8. "
   ]
  },
  {
   "cell_type": "code",
   "execution_count": 1,
   "metadata": {},
   "outputs": [],
   "source": [
    "import pandas as pd \n",
    "\n",
    "# Read data from file \n",
    "# We are going to use the function 'read_csv' within the Pandas package:\n",
    "\n",
    "if 'google.colab' in str(get_ipython()):\n",
    "    data = pd.read_csv('https://raw.githubusercontent.com/loftytopping/DEES_programming_course/master/extra_activities/data/titanic_data.csv')\n",
    "    data.head()\n",
    "else:\n",
    "    data = pd.read_csv(\"data/titanic_data.csv\") \n",
    "    data.head()\n",
    "    \n",
    "# The following command removes any entries that are not numbers, or NaNs [Not-A-Number]    \n",
    "data=data.dropna(subset=['Age'])"
   ]
  },
  {
   "cell_type": "code",
   "execution_count": 2,
   "metadata": {},
   "outputs": [
    {
     "data": {
      "text/html": [
       "<div>\n",
       "<style scoped>\n",
       "    .dataframe tbody tr th:only-of-type {\n",
       "        vertical-align: middle;\n",
       "    }\n",
       "\n",
       "    .dataframe tbody tr th {\n",
       "        vertical-align: top;\n",
       "    }\n",
       "\n",
       "    .dataframe thead th {\n",
       "        text-align: right;\n",
       "    }\n",
       "</style>\n",
       "<table border=\"1\" class=\"dataframe\">\n",
       "  <thead>\n",
       "    <tr style=\"text-align: right;\">\n",
       "      <th></th>\n",
       "      <th>PassengerId</th>\n",
       "      <th>Survived</th>\n",
       "      <th>Pclass</th>\n",
       "      <th>Name</th>\n",
       "      <th>Sex</th>\n",
       "      <th>Age</th>\n",
       "      <th>SibSp</th>\n",
       "      <th>Parch</th>\n",
       "      <th>Ticket</th>\n",
       "      <th>Fare</th>\n",
       "      <th>Cabin</th>\n",
       "      <th>Embarked</th>\n",
       "    </tr>\n",
       "  </thead>\n",
       "  <tbody>\n",
       "    <tr>\n",
       "      <th>0</th>\n",
       "      <td>1</td>\n",
       "      <td>0</td>\n",
       "      <td>3</td>\n",
       "      <td>Braund, Mr. Owen Harris</td>\n",
       "      <td>male</td>\n",
       "      <td>22.0</td>\n",
       "      <td>1</td>\n",
       "      <td>0</td>\n",
       "      <td>A/5 21171</td>\n",
       "      <td>7.2500</td>\n",
       "      <td>NaN</td>\n",
       "      <td>S</td>\n",
       "    </tr>\n",
       "    <tr>\n",
       "      <th>1</th>\n",
       "      <td>2</td>\n",
       "      <td>1</td>\n",
       "      <td>1</td>\n",
       "      <td>Cumings, Mrs. John Bradley (Florence Briggs Th...</td>\n",
       "      <td>female</td>\n",
       "      <td>38.0</td>\n",
       "      <td>1</td>\n",
       "      <td>0</td>\n",
       "      <td>PC 17599</td>\n",
       "      <td>71.2833</td>\n",
       "      <td>C85</td>\n",
       "      <td>C</td>\n",
       "    </tr>\n",
       "    <tr>\n",
       "      <th>2</th>\n",
       "      <td>3</td>\n",
       "      <td>1</td>\n",
       "      <td>3</td>\n",
       "      <td>Heikkinen, Miss. Laina</td>\n",
       "      <td>female</td>\n",
       "      <td>26.0</td>\n",
       "      <td>0</td>\n",
       "      <td>0</td>\n",
       "      <td>STON/O2. 3101282</td>\n",
       "      <td>7.9250</td>\n",
       "      <td>NaN</td>\n",
       "      <td>S</td>\n",
       "    </tr>\n",
       "    <tr>\n",
       "      <th>3</th>\n",
       "      <td>4</td>\n",
       "      <td>1</td>\n",
       "      <td>1</td>\n",
       "      <td>Futrelle, Mrs. Jacques Heath (Lily May Peel)</td>\n",
       "      <td>female</td>\n",
       "      <td>35.0</td>\n",
       "      <td>1</td>\n",
       "      <td>0</td>\n",
       "      <td>113803</td>\n",
       "      <td>53.1000</td>\n",
       "      <td>C123</td>\n",
       "      <td>S</td>\n",
       "    </tr>\n",
       "    <tr>\n",
       "      <th>4</th>\n",
       "      <td>5</td>\n",
       "      <td>0</td>\n",
       "      <td>3</td>\n",
       "      <td>Allen, Mr. William Henry</td>\n",
       "      <td>male</td>\n",
       "      <td>35.0</td>\n",
       "      <td>0</td>\n",
       "      <td>0</td>\n",
       "      <td>373450</td>\n",
       "      <td>8.0500</td>\n",
       "      <td>NaN</td>\n",
       "      <td>S</td>\n",
       "    </tr>\n",
       "  </tbody>\n",
       "</table>\n",
       "</div>"
      ],
      "text/plain": [
       "   PassengerId  Survived  Pclass  \\\n",
       "0            1         0       3   \n",
       "1            2         1       1   \n",
       "2            3         1       3   \n",
       "3            4         1       1   \n",
       "4            5         0       3   \n",
       "\n",
       "                                                Name     Sex   Age  SibSp  \\\n",
       "0                            Braund, Mr. Owen Harris    male  22.0      1   \n",
       "1  Cumings, Mrs. John Bradley (Florence Briggs Th...  female  38.0      1   \n",
       "2                             Heikkinen, Miss. Laina  female  26.0      0   \n",
       "3       Futrelle, Mrs. Jacques Heath (Lily May Peel)  female  35.0      1   \n",
       "4                           Allen, Mr. William Henry    male  35.0      0   \n",
       "\n",
       "   Parch            Ticket     Fare Cabin Embarked  \n",
       "0      0         A/5 21171   7.2500   NaN        S  \n",
       "1      0          PC 17599  71.2833   C85        C  \n",
       "2      0  STON/O2. 3101282   7.9250   NaN        S  \n",
       "3      0            113803  53.1000  C123        S  \n",
       "4      0            373450   8.0500   NaN        S  "
      ]
     },
     "execution_count": 2,
     "metadata": {},
     "output_type": "execute_result"
    }
   ],
   "source": [
    "# Lets take a preview of the dataframe we have created\n",
    "data.head()"
   ]
  },
  {
   "cell_type": "code",
   "execution_count": 3,
   "metadata": {},
   "outputs": [
    {
     "data": {
      "text/plain": [
       "8568"
      ]
     },
     "execution_count": 3,
     "metadata": {},
     "output_type": "execute_result"
    }
   ],
   "source": [
    "# Lets see how many entries we have\n",
    "data.size"
   ]
  },
  {
   "cell_type": "markdown",
   "metadata": {},
   "source": [
    "## 1) - Histograms on the age and sex distribution in each class"
   ]
  },
  {
   "cell_type": "code",
   "execution_count": 5,
   "metadata": {},
   "outputs": [
    {
     "data": {
      "text/plain": [
       "3    355\n",
       "1    186\n",
       "2    173\n",
       "Name: Pclass, dtype: int64"
      ]
     },
     "execution_count": 5,
     "metadata": {},
     "output_type": "execute_result"
    }
   ],
   "source": [
    "# Befoore I create histograms for each class, I need to know how many classes there are. We can use the value_counts() function for that.\n",
    "data['Pclass'].value_counts()"
   ]
  },
  {
   "cell_type": "code",
   "execution_count": 6,
   "metadata": {},
   "outputs": [
    {
     "data": {
      "text/plain": [
       "(0.42, 80.0)"
      ]
     },
     "execution_count": 6,
     "metadata": {},
     "output_type": "execute_result"
    },
    {
     "data": {
      "image/png": "[encoded data removed]",
      "text/plain": [
       "<Figure size 864x576 with 6 Axes>"
      ]
     },
     "metadata": {
      "needs_background": "light"
     },
     "output_type": "display_data"
    }
   ],
   "source": [
    "# Now produce histograms. Please take a look at the course practical notebooks if anything isnt clear. \n",
    "import matplotlib.pyplot as plt\n",
    "import numpy as np\n",
    "\n",
    "# Create a canvas for our plot\n",
    "fig, axs = plt.subplots(3, 2, figsize=(12, 8), sharey=False)\n",
    "# First class\n",
    "data[(data['Pclass']==1) & (data['Sex']=='male')].hist(column='Age',ax=axs[0,0])\n",
    "axs[0,0].set_title('First class [male]')\n",
    "data[(data['Pclass']==1) & (data['Sex']=='female')].hist(column='Age',ax=axs[0,1])\n",
    "axs[0,1].set_title('First class [female]')\n",
    "\n",
    "# Second class\n",
    "data[(data['Pclass']==2) & (data['Sex']=='male')].hist(column='Age',ax=axs[1,0])\n",
    "axs[1,0].set_title('Second class [male]')\n",
    "data[(data['Pclass']==2) & (data['Sex']=='female')].hist(column='Age',ax=axs[1,1])\n",
    "axs[1,1].set_title('Second class [female]')\n",
    "\n",
    "# Third class\n",
    "data[(data['Pclass']==3) & (data['Sex']=='male')].hist(column='Age',ax=axs[2,0])\n",
    "axs[2,0].set_title('Third class [male]')\n",
    "data[(data['Pclass']==3) & (data['Sex']=='female')].hist(column='Age',ax=axs[2,1])\n",
    "axs[2,1].set_title('Third class [female]')\n",
    "\n",
    "# Im also going to set the maximum and minimum limits on each x axis to be the same. \n",
    "# to do this Im going to work out these numbers from the age column\n",
    "\n",
    "min_age = np.min(data['Age'].values)\n",
    "max_age = np.max(data['Age'].values)\n",
    "\n",
    "axs[0,0].set_xlim([min_age, max_age])\n",
    "axs[0,1].set_xlim([min_age, max_age])\n",
    "axs[1,0].set_xlim([min_age, max_age])\n",
    "axs[1,1].set_xlim([min_age, max_age])\n",
    "axs[2,0].set_xlim([min_age, max_age])\n",
    "axs[2,1].set_xlim([min_age, max_age])\n",
    "\n"
   ]
  },
  {
   "cell_type": "markdown",
   "metadata": {},
   "source": [
    "##  2) Investigate features [class, age, sex] on those who survived and those who didnt.\n",
    "\n",
    "I can find which column metric I need to use to define a passenger who survived. But how we do we produce a histogram for categorical variables. Specifically, we want to visualise the distribution of people in each class and also their sex. We can use a histogram for age, but we will use a bar plot for both class and sex. \n",
    "\n",
    "The code to produce a bar plot looks a little different from a histogram. You may replicate the following example, changing the reference to column name and axis where appropriate:\n",
    "\n",
    "<code>\n",
    "data[data['Survived']==1]['Pclass'].value_counts().plot(kind='bar',ax=axs[0,1])\n",
    "</code>"
   ]
  },
  {
   "cell_type": "code",
   "execution_count": 36,
   "metadata": {},
   "outputs": [
    {
     "data": {
      "text/plain": [
       "Text(0.5, 1.0, 'Sex [did not survive]')"
      ]
     },
     "execution_count": 36,
     "metadata": {},
     "output_type": "execute_result"
    },
    {
     "data": {
      "image/png": "[encoded data removed]",
      "text/plain": [
       "<Figure size 864x576 with 6 Axes>"
      ]
     },
     "metadata": {
      "needs_background": "light"
     },
     "output_type": "display_data"
    }
   ],
   "source": [
    "\n",
    "# Create a canvas for our plot\n",
    "fig, axs = plt.subplots(2, 3, figsize=(12, 8), sharey=False)\n",
    "\n",
    "# Survived\n",
    "data[data['Survived']==1].hist(column='Age',ax=axs[0,0])\n",
    "axs[0,0].set_title('Age [survived]')\n",
    "data[data['Survived']==1]['Pclass'].value_counts().plot(kind='bar',ax=axs[0,1])\n",
    "axs[0,1].set_title('Class [Survived]')\n",
    "data[data['Survived']==1]['Sex'].value_counts().plot(kind='bar',ax=axs[0,2])\n",
    "axs[0,2].set_title('Sex [Survived]')\n",
    "\n",
    "# Didnt survice\n",
    "data[data['Survived']==0].hist(column='Age',ax=axs[1,0])\n",
    "axs[1,0].set_title('Age [did not survive]')\n",
    "data[data['Survived']==0]['Pclass'].value_counts().plot(kind='bar',ax=axs[1,1])\n",
    "axs[1,1].set_title('Class [did not survive]')\n",
    "data[data['Survived']==0]['Sex'].value_counts().plot(kind='bar',ax=axs[1,2])\n",
    "axs[1,2].set_title('Sex [did not survive]')\n"
   ]
  },
  {
   "cell_type": "code",
   "execution_count": null,
   "metadata": {},
   "outputs": [],
   "source": []
  }
 ],
 "metadata": {
  "kernelspec": {
   "display_name": "Python 3",
   "language": "python",
   "name": "python3"
  },
  "language_info": {
   "codemirror_mode": {
    "name": "ipython",
    "version": 3
   },
   "file_extension": ".py",
   "mimetype": "text/x-python",
   "name": "python",
   "nbconvert_exporter": "python",
   "pygments_lexer": "ipython3",
   "version": "3.7.6"
  }
 },
 "nbformat": 4,
 "nbformat_minor": 4
}

{
 "cells": [
  {
   "cell_type": "markdown",
   "metadata": {},
   "source": [
    "## Assignment template 1) Simulating the Gosper Glider Gun\n",
    "\n",
    "This assignment follows on from 'Practical 4. Modules and Functions - Building Conway's Game of Life'. The main objective is:\n",
    "\n",
    "<div class=\"alert alert-block alert-success\">\n",
    "<b> Simulate the Gosper Glider gun from Conway's game of life </b> \n",
    "  \n",
    "Overview: You are tasked with:\n",
    "\n",
    " - 1. Simulating the Gosper Glider gun from Conway's game of life\n",
    " - 2. Introducing a 'spaceship' specie into the simulation and 'assessing' the disruption.\n",
    " \n",
    "The first task requires you to initialise the 2D Universe of Conway's game of life and run the simulation. The second task is a little subjective but requires you to place a spaceship into the 2D Universe and draw some personal observations about the change in repetitive nature of the Gosper Glider Gun scenario. Based on the example given in class, we can break this exercise down into a number of steps:\n",
    "\n",
    " - Initialise a 2D 'Universe' which we will run our simulation over.\n",
    " - Define the shape and location of species for the Gosper Glider Gun simulation.\n",
    " - Introduce a new specie into the simulation.\n",
    " - Consider a time of simulation.\n",
    " \n",
    "<div class=\"alert alert-block alert-warning\">\n",
    "<b>Please note:</b> \n",
    "  \n",
    " We also want to see adequate referencing around:\n",
    "  - What is the original source of the theory and/or data?\n",
    "  - Comments in the code boxes using the # symbol. Remember that someone might not know what each line of code does.\n",
    "\n",
    "You may also want to consider a broader discussion around this challenge. For example: \n",
    " - What could your software be improved? \n",
    " - How do you know your results are correct? \n",
    " - What if someone wanted to get in touch with you and re-use this code? Any restrictions on data?\n",
    "\n",
    "To start, we recommend you first get the code implementation working and then construct the narrative around it. Also please note that to add another code or markdown box, you can simple use the 'Insert' option on the main menu.\n",
    "\n",
    "Your Gosper Glider Gun simulation should resemble the following figure, before you add a 'spaceship':\n",
    "\n",
    "<tr>\n",
    "    <td> <img src=\"images/Assessment1_output.png\" alt=\"Drawing\" style=\"width: 400px;\"/> </td>\n",
    "</tr>\n",
    "  \n",
    "</div>\n",
    "\n",
    "</div>"
   ]
  },
  {
   "cell_type": "markdown",
   "metadata": {},
   "source": [
    "## Abstract\n",
    "\n",
    "- Summarise the project and main results\n",
    "\n",
    "_Your Answer Here_"
   ]
  },
  {
   "cell_type": "markdown",
   "metadata": {},
   "source": [
    "## Introduction\n",
    "\n",
    "- Introduce the wider scientific background\n",
    "  \n",
    "_Your Answer Here_\n"
   ]
  },
  {
   "cell_type": "markdown",
   "metadata": {},
   "source": [
    "## Methodology using class templates\n",
    "\n",
    "- What is the challenge and how are you solving it?\n",
    "- What modules/functions are you using?\n",
    "\n",
    "_Your Answer Here_"
   ]
  },
  {
   "cell_type": "markdown",
   "metadata": {},
   "source": [
    "## Methodology using GenAI (optional)\n",
    "\n",
    "_Your Answer Here_"
   ]
  },
  {
   "cell_type": "markdown",
   "metadata": {},
   "source": [
    "## Code [inset code below]"
   ]
  },
  {
   "cell_type": "code",
   "execution_count": 1,
   "metadata": {},
   "outputs": [],
   "source": [
    "#### -------- INSERT CODE HERE ----------\n",
    "\n",
    "\n",
    "#### ------------------------------------"
   ]
  },
  {
   "cell_type": "markdown",
   "metadata": {},
   "source": [
    "## Results\n",
    "\n",
    "- What is happening in each figure?\n",
    "\n",
    "\n",
    "_Your Answer Here_\n",
    "\n",
    "\n",
    "#### references"
   ]
  },
  {
   "cell_type": "code",
   "execution_count": null,
   "metadata": {},
   "outputs": [],
   "source": []
  }
 ],
 "metadata": {
  "kernelspec": {
   "display_name": "Python 3 (ipykernel)",
   "language": "python",
   "name": "python3"
  },
  "language_info": {
   "codemirror_mode": {
    "name": "ipython",
    "version": 3
   },
   "file_extension": ".py",
   "mimetype": "text/x-python",
   "name": "python",
   "nbconvert_exporter": "python",
   "pygments_lexer": "ipython3",
   "version": "3.9.6"
  }
 },
 "nbformat": 4,
 "nbformat_minor": 2
}

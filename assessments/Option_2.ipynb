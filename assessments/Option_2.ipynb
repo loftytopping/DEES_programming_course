{
 "cells": [
  {
   "cell_type": "markdown",
   "metadata": {},
   "source": [
    "## Assignment template 2) Assessing cyclical dependency of fox and rabbit populations\n",
    "\n",
    "This assignment follows on from 'Practical 5. Modules and Functions - Solving differential equations'. The main objective is:\n",
    "\n",
    "<div class=\"alert alert-block alert-success\">\n",
    "<b> Plot the change in numbers of foxes as a function of rabbits for 6 different initial populations </b> \n",
    "  \n",
    "Overview: You are tasked with:\n",
    "\n",
    " - 1. Looping through multiple starting numbers of foxes and rabbits.\n",
    " - 2. Plotting the number of foxes as a function of rabbits for these multiple conditions\n",
    "\n",
    "Based on the example given in class, we can break this exercise down into a number of steps:\n",
    "\n",
    " - Defining the starting conditions we will cycle through\n",
    " - Initialise a matrix for foxe and rabbit numbers that will store the results of each simulation\n",
    " - Assign the result from each simulation as a specific variable. For example, this might be: rabbits1, foxes1, rabbits2, foxes2 etc.\n",
    " - Create a 2D plot of fox numbers as a function of rabbit\n",
    " \n",
    "<div class=\"alert alert-block alert-warning\">\n",
    "<b>Please note:</b> \n",
    "    \n",
    "As you are generating multiple outputs that represent the changing number of foxes and rabbits, you will need to plot each pair on the same graph. You can do this in Matplotlib by chaining together 'plot'commands. For example:\n",
    "\n",
    "```python\n",
    "plt.plot(rabbits, foxes, 'r-', label='0')\n",
    "plt.plot(rabbits1, foxes1, 'b-', label='1')\n",
    "plt.plot(rabbits2, foxes2, 'g-', label='2')\n",
    "```\n",
    "You can use the rest of the plotting commands from the class example. Aside from a working notebook we are also looking for the following:\n",
    "\n",
    " - An associated narrative with each operation. This includes the following sections:\n",
    " > Introduction and methdology\n",
    "  - What is the challenge and how are you presenting it?\n",
    "  - What modules/functions are you using?\n",
    " > Results\n",
    "  - What is happening in each figure?\n",
    " > Referencing\n",
    "  - What is the original source of the theory and/or data?\n",
    " - Comments in the code boxes using the # symbol\n",
    "  - Remember that someone might not know what each line of code does.\n",
    "\n",
    "You may also want to consider a broader discussion around this challenge. For example: \n",
    " - What could be improved? \n",
    " - How do you know your results are correct? [i.e. what might improve trust in your simulations?]\n",
    " - What if someone wanted to get in touch with you and re-use this code? Any restrictions on data?\n",
    "\n",
    "To start, we reccomend you first get the code implementation working and then construct the narrative around it. Also please note that to add another code or markdown box, you can simple use the 'Insert' option on the main menu.\n",
    "\n",
    "As a guide, your final figure plotting rabbits versus foxes should resemble the following:\n",
    "\n",
    "<tr>\n",
    "    <td> <img src=\"images/Assessment2_output.png\" alt=\"Drawing\" style=\"width: 400px;\"/> </td>\n",
    "</tr>\n",
    "  \n",
    "</div>\n",
    "\n",
    "</div>"
   ]
  },
  {
   "cell_type": "markdown",
   "metadata": {},
   "source": [
    "## Abstract"
   ]
  },
  {
   "cell_type": "markdown",
   "metadata": {},
   "source": [
    "## Introduction\n"
   ]
  },
  {
   "cell_type": "markdown",
   "metadata": {},
   "source": [
    "## Methodology"
   ]
  },
  {
   "cell_type": "code",
   "execution_count": null,
   "metadata": {},
   "outputs": [],
   "source": [
    "#### -------- INSERT CODE HERE ----------\n",
    "\n",
    "\n",
    "#### ------------------------------------"
   ]
  },
  {
   "cell_type": "markdown",
   "metadata": {},
   "source": [
    "## Results\n",
    "\n",
    "\n",
    "#### references"
   ]
  }
 ],
 "metadata": {
  "kernelspec": {
   "display_name": "Python 3",
   "language": "python",
   "name": "python3"
  },
  "language_info": {
   "codemirror_mode": {
    "name": "ipython",
    "version": 3
   },
   "file_extension": ".py",
   "mimetype": "text/x-python",
   "name": "python",
   "nbconvert_exporter": "python",
   "pygments_lexer": "ipython3",
   "version": "3.7.6"
  }
 },
 "nbformat": 4,
 "nbformat_minor": 2
}

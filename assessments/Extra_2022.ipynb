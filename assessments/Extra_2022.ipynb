{
 "cells": [
  {
   "cell_type": "markdown",
   "metadata": {},
   "source": [
    "## Assignment template: Introducing Koks Galazy and changing the rules of life\n",
    "\n",
    "This assignment follows on from 'Practical 4. Modules and Functions - Building Conway's Game of Life'. You are tasked with hitting 3 objectives. The first 2 are code development tasks, the third is a short write-up of the assignment and results. These are outlined as follows.\n",
    "\n",
    "\n",
    "<div class=\"alert alert-block alert-success\">\n",
    "<b> Code task 1. Simulating Kok's Galazy from Conway's Game of Life </b> \n",
    "  \n",
    "Kok's Galazy is a period-8 oscillator found by Jan Kok in 1971. This means that after 8 iterations the galaxy returns to its initial state. The figure below illustrates the galaxy in its initial configuration. Each black cell has a value of 1, and each white cell has a value of 0.\n",
    "    \n",
    "<tr>\n",
    "    <td> <img src=\"images/OIP.jpg\" alt=\"Drawing\" style=\"width: 400px;\"/> </td>\n",
    "</tr>\n",
    "    \n",
    "    \n",
    "The first task requires you to initialise the 2D Universe of Conways game and run the simulation in the first code cell below. You can copy and paste from Practical 4 to create a working Universe. Once you have copied over the function for Conways Game of Life, you will need to initialise Koks Galaxy, which requires initialising an array with 0s and 1s as we did in Practical 4.\n",
    "    \n",
    "<b> Code task 2. Changing the rules of life </b> \n",
    "    \n",
    "The second task requires you to change the existing code in your function. Recall that during the course we found that Conways game of life is based on 4 key rules. These are defined below.\n",
    "    \n",
    "- Any live cell with fewer than two live neighbours dies, as if by underpopulation. \n",
    "- Any live cell with two or three live neighbours lives on to the next generation. \n",
    "- Any live cell with more than three live neighbours dies, as if by overpopulation. \n",
    "- Any dead cell with exactly three live neighbours becomes a live cell, as if by reproduction.     \n",
    "\n",
    "In this task, you are required to modify the existing rules so that, in the final rule, any dead cell with exactly 4 live neighbours becomes a live cell, as if by reproduction. \n",
    "    \n",
    "<b> Writing task 1.</b> \n",
    "\n",
    "Once you have completed the above tasks you now need to write about the results. Make sure you introduce the background to Conways game of life, but also describe what is happening in both code task 1 and 2. \n",
    " \n",
    "<div class=\"alert alert-block alert-warning\">\n",
    "<b>Please note:</b> \n",
    "\n",
    "We will discuss this in class, but aside from a working notebook we are also looking for the following:\n",
    "\n",
    " - An associated narrative with each operation. This includes the following sections:\n",
    " \n",
    " > Abstract\n",
    "  - Summarise the project and main results\n",
    " \n",
    " > Introduction and methdology\n",
    "  - What is the challenge and how are you solving it?\n",
    "  - What modules/functions are you using?\n",
    "  \n",
    " > Results\n",
    "  - What is happening in each figure and/or your simulation?\n",
    "  \n",
    " We also want to see adequate referencing around:\n",
    "  - What is the original source of the theory and/or data?\n",
    "  - Comments in the code boxes using the # symbol. Remember that someone might not know what each line of code does.\n",
    "\n",
    "You may also want to consider a broader discussion around this challenge. For example: \n",
    " - What could your software be improved? \n",
    " - How do you know your results are correct? \n",
    " - What if someone wanted to get in touch with you and re-use this code? Any restrictions on data?\n",
    "\n",
    "To start, we recommend you first get the code implementation working and then construct the narrative around it. Also please note that to add another code or markdown box, you can simple use the 'Insert' option on the main menu.\n",
    "\n",
    "\n",
    "</div>\n",
    "\n",
    "</div>"
   ]
  },
  {
   "cell_type": "code",
   "execution_count": null,
   "metadata": {},
   "outputs": [],
   "source": [
    "## Code cell 1"
   ]
  },
  {
   "cell_type": "code",
   "execution_count": null,
   "metadata": {},
   "outputs": [],
   "source": [
    "## Code cell 2"
   ]
  },
  {
   "cell_type": "markdown",
   "metadata": {},
   "source": [
    "## Abstract "
   ]
  },
  {
   "cell_type": "markdown",
   "metadata": {},
   "source": [
    "## Introduction\n",
    "\n"
   ]
  },
  {
   "cell_type": "markdown",
   "metadata": {},
   "source": [
    "## Methodology"
   ]
  },
  {
   "cell_type": "code",
   "execution_count": 1,
   "metadata": {},
   "outputs": [],
   "source": [
    "#### -------- INSERT CODE HERE ----------\n",
    "\n",
    "\n",
    "#### ------------------------------------"
   ]
  },
  {
   "cell_type": "markdown",
   "metadata": {},
   "source": [
    "## Results\n",
    "\n",
    "\n",
    "#### references"
   ]
  },
  {
   "cell_type": "code",
   "execution_count": null,
   "metadata": {},
   "outputs": [],
   "source": []
  }
 ],
 "metadata": {
  "kernelspec": {
   "display_name": "Python 3 (ipykernel)",
   "language": "python",
   "name": "python3"
  },
  "language_info": {
   "codemirror_mode": {
    "name": "ipython",
    "version": 3
   },
   "file_extension": ".py",
   "mimetype": "text/x-python",
   "name": "python",
   "nbconvert_exporter": "python",
   "pygments_lexer": "ipython3",
   "version": "3.9.6"
  }
 },
 "nbformat": 4,
 "nbformat_minor": 2
}

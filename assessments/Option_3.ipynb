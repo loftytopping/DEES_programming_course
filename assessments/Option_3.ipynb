{
 "cells": [
  {
   "cell_type": "markdown",
   "metadata": {},
   "source": [
    "## Assignment template 3) Air quality and data analysis\n",
    "\n",
    "This assignment follows on from 'Practical 7 - Pandas and statistics'. The main objective is:\n",
    "\n",
    "<div class=\"alert alert-block alert-success\">\n",
    "<b> Create a heatmap of correlation coefficients between NO2 [Nitrogen Dioxide] for 4 air quality stations and a boxplot of values at those stations </b> \n",
    "    \n",
    "Overview: You are tasked with trying to resolve correlations between NO2 across 4 different sites in Beijing. These sites are selected as:\n",
    "\n",
    " - Nansanhuan\n",
    " - Yizhuang\n",
    " - Yongdingmennei\n",
    " - Qianmen\n",
    "\n",
    "Based on the example given in class, we can break this exercise down into a number of steps:\n",
    "\n",
    " - Creating a new dataframe for each station ID and ONLY the NO2 columns\n",
    " - Renaming the columns with NO2 data. Why is this?\n",
    " - Using UTC time as the common index in all dataframes\n",
    " - Merging dataframes into a new one\n",
    " - Generating a correlation coefficient matrix from this new dataframe\n",
    " - Producing a heatmap and boxplot\n",
    " \n",
    "<div class=\"alert alert-block alert-warning\">\n",
    "<b>Please note:</b> \n",
    "We also want to see adequate referencing around:\n",
    "  - What is the original source of the theory and/or data?\n",
    "  - Comments in the code boxes using the # symbol. Remember that someone might not know what each line of code does.\n",
    "\n",
    "You may also want to consider a broader discussion around this challenge. For example: \n",
    " - What could be improved? \n",
    " - How do you know your results are correct? [i.e. what might improve trust in your simulations?]\n",
    " - What if someone wanted to get in touch with you and re-use this code? Any restrictions on data?\n",
    "\n",
    "To start, we reccomend you first get the code implementation working and then construct the narrative around it. Also please note that to add another code or markdown box, you can simple use the 'Insert' option on the main menu.\n",
    "    \n",
    "For renaming a column in a dataframe, you can use the function .rename as per the following demonstration for data from nansanhuan:\n",
    "\n",
    "```python\n",
    "nansanhuan_aq_df=nansanhuan_aq_df.rename(columns={\"NO2\": \"NO2_nansanhuan\"})\n",
    "```\n",
    "\n",
    "You will need to load the data we have originally used in 'Practical 7 - Pandas and statistics' which can be found in the 'data' folder.\n",
    "\n",
    "Your correlation coefficient heatmap and boxplot should resemble the following figures:\n",
    "\n",
    "<tr>\n",
    "    <td> <img src=\"images/Assessment3_output.png\" alt=\"Drawing\" style=\"width: 400px;\"/> </td>\n",
    "    <td> <img src=\"images/Assessment3_output2.png\" alt=\"Drawing\" style=\"width: 400px;\"/> </td>\n",
    "</tr>\n",
    "\n",
    "Please note that you can load your data, once the Pandas modules has been imported, using the following command\n",
    "\n",
    "```python\n",
    "data_aq = pd.read_csv(\"data/beijing_17_18_aq.csv\") \n",
    "```\n",
    "  \n",
    "</div>\n",
    "\n",
    "</div>"
   ]
  },
  {
   "cell_type": "markdown",
   "metadata": {},
   "source": [
    "## Abstract\n",
    "\n",
    "- Summarise the project and main results\n",
    "\n",
    "_Your Answer Here_"
   ]
  },
  {
   "cell_type": "markdown",
   "metadata": {},
   "source": [
    "## Introduction\n",
    "\n",
    "- Introduce the wider scientific background\n",
    "  \n",
    "_Your Answer Here_\n"
   ]
  },
  {
   "cell_type": "markdown",
   "metadata": {},
   "source": [
    "## Methodology using class templates\n",
    "\n",
    "- What is the challenge and how are you solving it?\n",
    "- What modules/functions are you using?\n",
    "\n",
    "_Your Answer Here_"
   ]
  },
  {
   "cell_type": "markdown",
   "metadata": {},
   "source": [
    "## Methodology using GenAI (optional)\n",
    "\n",
    "_Your Answer Here_"
   ]
  },
  {
   "cell_type": "markdown",
   "metadata": {},
   "source": [
    "## Code [inset code below]"
   ]
  },
  {
   "cell_type": "code",
   "execution_count": 1,
   "metadata": {},
   "outputs": [],
   "source": [
    "#### -------- INSERT CODE HERE ----------\n",
    "\n",
    "\n",
    "#### ------------------------------------"
   ]
  },
  {
   "cell_type": "markdown",
   "metadata": {},
   "source": [
    "## Results\n",
    "\n",
    "- What is happening in each figure?\n",
    "\n",
    "\n",
    "_Your Answer Here_\n",
    "\n",
    "\n",
    "#### references"
   ]
  }
 ],
 "metadata": {
  "kernelspec": {
   "display_name": "Python 3 (ipykernel)",
   "language": "python",
   "name": "python3"
  },
  "language_info": {
   "codemirror_mode": {
    "name": "ipython",
    "version": 3
   },
   "file_extension": ".py",
   "mimetype": "text/x-python",
   "name": "python",
   "nbconvert_exporter": "python",
   "pygments_lexer": "ipython3",
   "version": "3.9.6"
  }
 },
 "nbformat": 4,
 "nbformat_minor": 2
}

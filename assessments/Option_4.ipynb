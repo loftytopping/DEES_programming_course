{
 "cells": [
  {
   "cell_type": "markdown",
   "metadata": {},
   "source": [
    "## Assignment template 4) Plotting Tsunami locations with intensity frequency\n",
    "\n",
    "This assignment follows on from 'Practical 6. Pandas data discovery - Geospatial analysis and plotting'. \n",
    "\n",
    "The data for this exercise is taken from:\n",
    "\n",
    " - [NCEI/WDS Global Historical Tsunami Database, 2100 BC to Present](https://data.nodc.noaa.gov/cgi-bin/iso?id=gov.noaa.ngdc.mgg.hazards:G02151) doi:10.7289/V5PN93H7\n",
    "\n",
    "The main objective is:\n",
    "\n",
    "<div class=\"alert alert-block alert-success\">\n",
    "<b> Plot the location of Tsunami's along with a histogram of intensity for those caused by Volcanos and Earthquakes</b> \n",
    "    \n",
    "In this exercise you will need to work with data loaded into a Pandas dataframe. Aside from selecting those events that occured after the year 2000, you will also have to select events that were not deemed to be caused by a 'Questionable Earthquake'. This is clarfied shortly.\n",
    "  \n",
    "Overview: You are tasked with:\n",
    "\n",
    " - 1. Loading a dataset of Tsunami events into a Pandas dataframe.\n",
    " - 2. Extract data from this dataframe to plot global locations. \n",
    " - 3. Repeat the above but only where the event is not 'questionable' and occured after the year 2000.\n",
    " - 4. Assess intensity for all 'non-questionable earthquakes' caused from Volcanos and Earthquakes.\n",
    " \n",
    "According to the variable definitions provided on the [dataset webpage](https://www.ngdc.noaa.gov/hazard/tsu_db.shtml), the variable 'CAUSE_CODE', which you will find is stored in its own column in the dataframe, refers to the following options:\n",
    "\n",
    " - 0 = Unknown\n",
    " - 1 = Earthquake\n",
    " - 2 = Questionable Earthquake\n",
    " - 3 = Earthquake and Landslide\n",
    " - 4 = Volcano and Earthquake\n",
    " - 5 = Volcano, Earthquake, and Landslide\n",
    " - 6 = Volcano\n",
    " - 7 = Volcano and Landslide\n",
    " - 8 = Landslide\n",
    " - 9 = Meteorological\n",
    " - 10 = Explosion\n",
    " - 11 = Astronomical Tide\n",
    " \n",
    "The variable 'SOLOVIEV' is a measure of Tsunami intensity.\n",
    "\n",
    "Based on the example given in class, we can break this exercise down into a number of steps:\n",
    "\n",
    " - Load the data into a dataframe.\n",
    " - Use the Cartopy package to plot the locations of each event.\n",
    " - Draw a histogram of intensity for Tsunamis created by Volcanos and Earthquakes [seperately].\n",
    " \n",
    "<div class=\"alert alert-block alert-warning\">\n",
    "<b>Please note:</b> \n",
    "\n",
    "We will discuss this in class, but aside from a working notebook we are also looking for the following:\n",
    "\n",
    " - An associated narrative with each operation. This includes the following sections:\n",
    " \n",
    "  > Abstract\n",
    "  - Summarise the project and main results\n",
    "\n",
    " > Introduction and methdology\n",
    "  - What is the challenge and how are you solving it?\n",
    "  - What modules/functions are you using?\n",
    "  \n",
    " > Results\n",
    "  - What is happening in each figure?\n",
    "  \n",
    " We also want to see adequate referencing around:\n",
    "  - What is the original source of the theory and/or data?\n",
    "  - Comments in the code boxes using the # symbol. Remember that someone might not know what each line of code does.\n",
    "\n",
    "You may also want to consider a broader discussion around this challenge. For example: \n",
    " - What could be improved? \n",
    " - How do you know your results are correct? [i.e. what might improve trust in your simulations?]\n",
    " - What if someone wanted to get in touch with you and re-use this code? Any restrictions on data?\n",
    "\n",
    "To start, we reccomend you first get the code implementation working and then construct the narrative around it. Also please note that to add another code or markdown box, you can simple use the 'Insert' option on the main menu.\n",
    "\n",
    "Your plot of locations and histogram of earthquake derived intensity should resemble the following figures:\n",
    "\n",
    "<table><tr>\n",
    "    <td> <img src=\"images/Assessment4_output1a.png\" alt=\"Drawing\" style=\"width: 350px;\"/> </td>\n",
    "    <td> <img src=\"images/Assessment4_output1.png\" alt=\"Drawing\" style=\"width: 350px;\"/> </td>\n",
    "</tr></table>\n",
    "\n",
    "\n",
    "Please note that you can load your data, once the Pandas module has been imported, using the following commands:\n",
    "\n",
    "```python\n",
    "data = pd.read_csv(path+\"/data/tsevent.csv\") \n",
    "```\n",
    "\n",
    "</div>\n",
    "\n",
    "</div>"
   ]
  },
  {
   "cell_type": "markdown",
   "metadata": {},
   "source": [
    "## Abstract"
   ]
  },
  {
   "cell_type": "markdown",
   "metadata": {},
   "source": [
    "## Introduction\n"
   ]
  },
  {
   "cell_type": "markdown",
   "metadata": {},
   "source": [
    "## Methodology"
   ]
  },
  {
   "cell_type": "code",
   "execution_count": null,
   "metadata": {},
   "outputs": [],
   "source": []
  },
  {
   "cell_type": "markdown",
   "metadata": {},
   "source": [
    "## Results\n",
    "\n",
    "\n",
    "#### references"
   ]
  }
 ],
 "metadata": {
  "kernelspec": {
   "display_name": "Python 3 (ipykernel)",
   "language": "python",
   "name": "python3"
  },
  "language_info": {
   "codemirror_mode": {
    "name": "ipython",
    "version": 3
   },
   "file_extension": ".py",
   "mimetype": "text/x-python",
   "name": "python",
   "nbconvert_exporter": "python",
   "pygments_lexer": "ipython3",
   "version": "3.12.1"
  }
 },
 "nbformat": 4,
 "nbformat_minor": 4
}

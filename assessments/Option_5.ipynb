{
 "cells": [
  {
   "cell_type": "markdown",
   "metadata": {},
   "source": [
    "## Assignment template 5) Plotting flood risk to traffic signals\n",
    "\n",
    "This assignment follows on from 'Practical 7. Raster vs. Vector Data in Environmental Science'. \n",
    "\n",
    "The data for this exercise is taken from:\n",
    "\n",
    " - [NCEI/WDS Global Historical Tsunami Database, 2100 BC to Present](https://data.nodc.noaa.gov/cgi-bin/iso?id=gov.noaa.ngdc.mgg.hazards:G02151) doi:10.7289/V5PN93H7\n",
    "\n",
    "The main objective is:\n",
    "\n",
    "<div class=\"alert alert-block alert-success\">\n",
    "<b> Create maps to highlight flooding risk to traffic signals in 3 Greater Manchester districts</b> \n",
    "    \n",
    "In this exercise you will need to work with shapefile data loaded into a GeoPandas dataframe. Based on the example given in class, we can break this exercise down into a number of steps:\n",
    "\n",
    " - Load the data into a GeoPandas dataframe. This includes data on flooding, traffic signals and Greater Manchester regional boundaries.\n",
    " - Check the Coordinate Reference System for each dataframe.\n",
    " - Create a map of Greater Manchester that overlays all the information provided.\n",
    " - Select 3 seperate districts (e.g. Stockport, Central Manchester...)\n",
    " - Compare changes in risk between the 3 districts.\n",
    " - How does this change if we change a risk boundary of 0 to 1km?\n",
    " \n",
    "<div class=\"alert alert-block alert-warning\">\n",
    "<b>Please note:</b> \n",
    "\n",
    "We will discuss this in class, but aside from a working notebook we are also looking for the following:\n",
    "\n",
    " - An associated narrative with each operation. This includes the following sections:\n",
    " \n",
    "  > Abstract\n",
    "  - Summarise the project and main results\n",
    "\n",
    " > Introduction and methdology\n",
    "  - What is the challenge and how are you solving it?\n",
    "  - What modules/functions are you using?\n",
    "  \n",
    " > Results\n",
    "  - What is happening in each figure?\n",
    "  \n",
    " We also want to see adequate referencing around:\n",
    "  - What is the original source of the theory and/or data?\n",
    "  - Comments in the code boxes using the # symbol. Remember that someone might not know what each line of code does.\n",
    "\n",
    "You may also want to consider a broader discussion around this challenge. For example: \n",
    " - What could be improved? \n",
    " - How do you know your results are correct? [i.e. what might improve trust in your simulations?]\n",
    " - What if someone wanted to get in touch with you and re-use this code? Any restrictions on data?\n",
    "\n",
    "To start, we reccomend you first get the code implementation working and then construct the narrative around it. Also please note that to add another code or markdown box, you can simple use the 'Insert' option on the main menu.\n",
    "\n",
    "\n",
    "Please note that you can load your data, once the GeoPandas module has been imported, using the following commands. You will need to assign a name to each dataframe:\n",
    "\n",
    "```python\n",
    "... = pd.read_csv(path+\"/data/EA_floodrisk_level2/Environment_Agency_Flood_Zone_2.shp\") \n",
    "... = pd.read_csv(path+\"/data/gmauthorities.geojson\") \n",
    "... = pd.read_csv(path+\"/data/TrafficSignals/TrafficSignals.shp\") \n",
    "\n",
    "```\n",
    "\n",
    "</div>\n",
    "\n",
    "</div>"
   ]
  },
  {
   "cell_type": "markdown",
   "metadata": {},
   "source": [
    "## Abstract"
   ]
  },
  {
   "cell_type": "markdown",
   "metadata": {},
   "source": [
    "## Introduction\n"
   ]
  },
  {
   "cell_type": "markdown",
   "metadata": {},
   "source": [
    "## Methodology"
   ]
  },
  {
   "cell_type": "code",
   "execution_count": null,
   "metadata": {},
   "outputs": [],
   "source": []
  },
  {
   "cell_type": "markdown",
   "metadata": {},
   "source": [
    "## Results\n",
    "\n",
    "\n",
    "#### references"
   ]
  }
 ],
 "metadata": {
  "kernelspec": {
   "display_name": "Python 3 (ipykernel)",
   "language": "python",
   "name": "python3"
  },
  "language_info": {
   "codemirror_mode": {
    "name": "ipython",
    "version": 3
   },
   "file_extension": ".py",
   "mimetype": "text/x-python",
   "name": "python",
   "nbconvert_exporter": "python",
   "pygments_lexer": "ipython3",
   "version": "3.12.1"
  }
 },
 "nbformat": 4,
 "nbformat_minor": 4
}

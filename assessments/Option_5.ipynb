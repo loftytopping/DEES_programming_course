{
 "cells": [
  {
   "cell_type": "markdown",
   "metadata": {},
   "source": [
    "## Assignment template 5) Cluster Abalone data into distinct groups\n",
    "\n",
    "This assignment follows on from 'Practical 8. Pandas data discovery - Cluster analysis'. The main objective is:\n",
    "\n",
    "<div class=\"alert alert-block alert-success\">\n",
    "<b> Cluster observations of Abalone into distinct groups and assess the profile of age in each group </b> \n",
    "    \n",
    "The basic premise is that we should be able to group different observations of the Abalone shellfish into distinct clusters that should have a different age. This follows on from the challange of being able to predict the age of abalone from physical measurements. As noted in the original repository, _\"the age of abalone is determined by cutting the shell through the cone, staining it, and counting the number of rings through a microscope -- a boring and time-consuming task.\"\n",
    "\n",
    "The original dataset can be found at[UCI Machine Learning repository](https://archive.ics.uci.edu/ml/datasets/abalone) but we have placed it in the data folder for ease of access. \n",
    "  \n",
    "Overview: You are tasked with:\n",
    "\n",
    " - Loading a dataset of Abalone features into a Pandas dataframe.\n",
    " - Expanding this to include a calculation of Albalone age as a new column in the dataframe.\n",
    " - Present a boxplot of cluster member age that have been predicted using K-means for 5 clusters on all the original features.\n",
    " - Repeat the above but with 7 clusters.\n",
    " \n",
    "According to the variable definitions provided on the link given above, we are given 8 variabes: \n",
    "\n",
    "| Name | Data Type |  Measurement Unit |  Description \n",
    "| --- | --- | --- | --- |\n",
    "| Sex | nominal | -- | M, F, and I (infant) |\n",
    "| Length | continuous | mm | Longest shell measurement |\n",
    "| Diameter\t| continuous | mm | perpendicular to length |\n",
    "| Height | continuous | mm | with meat in shell |\n",
    "| Whole weight | continuous | grams | whole abalone |\n",
    "| Shucked weight | continuous\t| grams | weight of meat |\n",
    "| Viscera weight | continuous | grams | gut weight (after bleeding) |\n",
    "| Shell weight | continuous | grams | after being dried |\n",
    "| Rings | integer | -- | +1.5 gives the age in years |\n",
    "\n",
    "You need to create a new variable in our dataframe, 'age', which is calculated using the number of rings as per the information in the table. Based on the example given in class, we can break this exercise down into a number of steps:\n",
    "\n",
    " - 1. Loading a dataset of Abalone profiles into a Pandas dataframe\n",
    " - 2. Create a new column with values from calculating the age of abalone\n",
    " - 3. Perform K-Means cluster analysis assuming 5 distinct clusters.\n",
    " - 4. Assess any change in member properties by increasing the number of clusters to 7.\n",
    " \n",
    "<div class=\"alert alert-block alert-warning\">\n",
    "<b>Please note:</b> \n",
    "\n",
    "We will discuss this in class, but aside from a working notebook we are also looking for the following:\n",
    "\n",
    " - An associated narrative with each operation. This includes the following sections:\n",
    " \n",
    "  > Abstract\n",
    "  - Summarise the project and main results\n",
    "\n",
    " > Introduction and methdology\n",
    "  - What is the challenge and how are you solving it?\n",
    "  - What modules/functions are you using?\n",
    "  \n",
    " > Results\n",
    "  - What is happening in each figure?\n",
    "  \n",
    " We also want to see adequate referencing around:\n",
    "  - What is the original source of the theory and/or data?\n",
    "  - Comments in the code boxes using the # symbol. Remember that someone might not know what each line of code does.\n",
    "\n",
    "You may also want to consider a broader discussion around this challenge. For example: \n",
    " - What could be improved? \n",
    " - How do you know your results are correct? [i.e. what might improve trust in your simulations?]\n",
    " - What if someone wanted to get in touch with you and re-use this code? Any restrictions on data?\n",
    "\n",
    "To start, we reccomend you first get the code implementation working and then construct the narrative around it. Also please note that to add another code or markdown box, you can simple use the 'Insert' option on the main menu.\n",
    "\n",
    "Your boxplot of cluster age should resemble the following figure:\n",
    "\n",
    "<tr>\n",
    "    <td> <img src=\"images/Assessment5_output.png\" alt=\"Drawing\" style=\"width: 400px;\"/> </td>\n",
    "</tr>\n",
    "\n",
    "Also please note that you can load your data, once the Pandas module has been loaded, bya:\n",
    "\n",
    "```python\n",
    "data = pd.read_csv(\"data/abalone.csv\") \n",
    "```\n",
    "    \n",
    "</div>\n",
    "\n",
    "</div>"
   ]
  },
  {
   "cell_type": "markdown",
   "metadata": {},
   "source": [
    "## Abstract"
   ]
  },
  {
   "cell_type": "markdown",
   "metadata": {},
   "source": [
    "## Introduction\n"
   ]
  },
  {
   "cell_type": "markdown",
   "metadata": {},
   "source": [
    "## Methodology"
   ]
  },
  {
   "cell_type": "code",
   "execution_count": null,
   "metadata": {},
   "outputs": [],
   "source": [
    "#### -------- INSERT CODE HERE ----------\n",
    "\n",
    "\n",
    "#### ------------------------------------"
   ]
  },
  {
   "cell_type": "markdown",
   "metadata": {},
   "source": [
    "## Results\n",
    "\n",
    "\n",
    "#### references"
   ]
  }
 ],
 "metadata": {
  "kernelspec": {
   "display_name": "Python 3",
   "language": "python",
   "name": "python3"
  },
  "language_info": {
   "codemirror_mode": {
    "name": "ipython",
    "version": 3
   },
   "file_extension": ".py",
   "mimetype": "text/x-python",
   "name": "python",
   "nbconvert_exporter": "python",
   "pygments_lexer": "ipython3",
   "version": "3.7.6"
  }
 },
 "nbformat": 4,
 "nbformat_minor": 2
}

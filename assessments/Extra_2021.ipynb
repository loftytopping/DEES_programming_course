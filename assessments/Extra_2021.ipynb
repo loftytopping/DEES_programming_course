{
 "cells": [
  {
   "cell_type": "markdown",
   "metadata": {},
   "source": [
    "## Assignment template  - Introducing Koks Galaxy and changing the rules of life\n",
    "\n",
    "This assignment follows on from 'Practical 4. Modules and Functions - Building Conway's Game of Life'. You are tasked with hitting 3 objectives. First, we would like you to simulate Kok's galaxy using Conways Game of Life Python framework that we used in class. Second, you are asked to run the same simulation but with a modified rule that is central to Conways Game of Life. Finally, we would like you to write a short report about Conways Game of life and make observations about the two simulations you have conducted.\n",
    "\n",
    "You can find more detail on each exercise in turn nelow:\n",
    "\n",
    "<div class=\"alert alert-block alert-success\">  \n",
    "\n",
    "### Code task 1. Simulating Kok's Galaxy from Conway's game of life.\n",
    "    \n",
    "Kok's galaxy is a period-8 oscillator found by Jan Kok in 1971. This means that after 8 iterations, the galaxy returns to its normal shape. The figure below illustrates the galaxy in its initial configuration. Each black cell has a value of 1, and each white cell a value of 0. \n",
    "    \n",
    "<tr>\n",
    "    <td> <img src=\"images/OIP.jpg\" alt=\"Drawing\" style=\"width: 200px;\"/> </td>\n",
    "</tr>\n",
    "    \n",
    "The first task requires you to initialise the 2D Universe of Conway's game of life and run the simulation in the first code cell below. **You can copy and paste the code from Practical 4 to create a working Universe. Once you have copied over the function for Conways game of life, you will need to initialise Kok's galaxy and this means initialising an array with 0s and 1s as we did in Practical 4. The easiest way to do this is head to Practical 4 in the solutions folder.**. \n",
    "    \n",
    "### Code task 2. Changing the rules of life and observing how the evolution of the galazy changes over time. \n",
    "    \n",
    "The second task requires you to change the existing code in our Conways game of life function. Recall that during the course, we found that Conways game of life is based on 4 key rules. Every cell interacts with its neighbours, whether they are horizontally, vertically of diagonally adjacent. There are 4 laws that define these interactions:\n",
    "\n",
    "<div class=\"alert alert-block alert-info\">\n",
    "    \n",
    " - Any live cell with fewer than two live neighbours dies, as if by underpopulation.\n",
    "    \n",
    " - Any live cell with two or three live neighbours lives on to the next generation.\n",
    " \n",
    " - Any live cell with more than three live neighbours dies, as if by overpopulation.\n",
    " \n",
    " - Any dead cell with exactly three live neighbours becomes a live cell, as if by reproduction.\n",
    "</div>\n",
    "    \n",
    "In the second exercise, I would like you to change the relevant code in our function such that the fourth and final rule becomes:\n",
    "    \n",
    "<div class=\"alert alert-block alert-info\">\n",
    "     \n",
    " - Any dead cell with exactly *four* live neighbours becomes a live cell, as if by reproduction.\n",
    "</div>\n",
    "\n",
    "To re-iterate, please copy-n-paste the code from Practical 4 and modify this. You will find at the end of the Python function 'search_each_cell' we implement the 4 rules of life. \n",
    "    \n",
    "### Short report    \n",
    "Finally, please write a short narrative on the simulation of Koks Galaxy and the impact of changing the fourth rule in the relevant space in Blackboard.  I am looking for the following components.\n",
    " \n",
    "#### Abstract\n",
    "  - Summarise the project and main results\n",
    " \n",
    "#### Introduction and methdology\n",
    "  - What is Conway's Game of Life and how are you solving it?\n",
    "  - What modules/functions are you using?\n",
    "  \n",
    "#### Results\n",
    "  - What is happening in Kok's galaxy using the original rules?\n",
    "  - What is the impact of changing the fourth rule of life?\n",
    "  \n",
    "I also want to see adequate referencing around:\n",
    "  - What is the original source of the theory and/or data?\n",
    "  - Comments in the code boxes using the # symbol. Remember that someone might not know what each line of code does.\n",
    "\n",
    "You may also want to consider a broader discussion around this challenge. For example: \n",
    " - What could your software be improved? \n",
    " - How do you know your results are correct? \n",
    " - What if someone wanted to get in touch with you and re-use this code? Any restrictions on data?\n",
    "\n",
    "To start, I recommend you first get the code implementation working and then construct the narrative around it at the end.\n",
    "    \n",
    "</div>\n",
    "\n",
    "</div>"
   ]
  },
  {
   "cell_type": "markdown",
   "metadata": {},
   "source": [
    "## Code task 1 \n",
    "Please use the space below. Please remember that Binder does not save progress. I recommend routinely copying your working code into a local document so you can copy and paste this into each Binder session. When you have completed the entire notebook, you can download as a notebook using the menu above."
   ]
  },
  {
   "cell_type": "code",
   "execution_count": null,
   "metadata": {},
   "outputs": [],
   "source": []
  },
  {
   "cell_type": "markdown",
   "metadata": {},
   "source": [
    "## Code task 2\n",
    "Please use the space below. Please remember that Binder does not save progress. I recommend routinely copying your working code into a local document so you can copy and paste this into each Binder session. When you have completed the entire notebook, you can download as a notebook using the menu above."
   ]
  },
  {
   "cell_type": "code",
   "execution_count": null,
   "metadata": {},
   "outputs": [],
   "source": []
  },
  {
   "cell_type": "markdown",
   "metadata": {},
   "source": [
    "## Report\n",
    "Please use the space below. Please remember that Binder does not save progress. I recommend routinely copying your text into a local document so you can copy and paste this into each Binder session. When you have completed the entire notebook, you can download as a notebook using the menu above."
   ]
  },
  {
   "cell_type": "markdown",
   "metadata": {},
   "source": [
    "#### Abstract\n",
    "\n",
    "[insert your text]\n",
    "\n",
    "#### Introduction and methdology\n",
    "\n",
    "[insert your text]\n",
    "\n",
    "#### Results\n",
    "\n",
    "[insert your text]\n"
   ]
  },
  {
   "cell_type": "code",
   "execution_count": null,
   "metadata": {},
   "outputs": [],
   "source": []
  }
 ],
 "metadata": {
  "kernelspec": {
   "display_name": "Python 3",
   "language": "python",
   "name": "python3"
  },
  "language_info": {
   "codemirror_mode": {
    "name": "ipython",
    "version": 3
   },
   "file_extension": ".py",
   "mimetype": "text/x-python",
   "name": "python",
   "nbconvert_exporter": "python",
   "pygments_lexer": "ipython3",
   "version": "3.9.0"
  }
 },
 "nbformat": 4,
 "nbformat_minor": 4
}

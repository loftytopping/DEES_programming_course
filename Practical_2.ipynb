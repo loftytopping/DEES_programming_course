{
 "cells": [
  {
   "cell_type": "markdown",
   "metadata": {},
   "source": [
    "# Practical 2 - Loops and conditional statements\n",
    "\n",
    "In today's practical we are going to continue practicing working with loops whilst also moving on to the use of conditional statements.\n",
    "\n",
    "<div class=\"alert alert-block alert-success\">\n",
    "<b>Objectives:</b> The objectives of todays practical are:\n",
    "\n",
    " - 1) [Loops: FOR loops continued](#Part1)\n",
    "      * [Exercise 1: Cycling through arrays and modifying values](#Exercise1)\n",
    " - 2) [Conditional statements: IF, ELSE and ELIF](#Part2)\n",
    "      * [Exercise 2: Modify a loop to implement one of two equations according to a condition being met](#Exercise2)\n",
    " - 3) [Nested loops: Working with more than 1 dimension](#Part3)\n",
    "      * [Exercise 3: Print out the result from a nested loop according to a condition being met](#Exercise3)\n",
    "      * [Exercise 4: Print out which variables match a condition](#Exercise4)\n",
    "      * [Exercise 5: Repeat Bob Newby's code breaking nested loops to crack the code in the Hawkins lab](#Exercise5)\n",
    "\n",
    "Please note that you should not feel pressured to complete every exercise in class. These practicals are designed for you to take outside of class and continue working on them. Proposed solutions to all exercises can be found in the 'Solutions' folder.\n",
    "</div>"
   ]
  },
  {
   "cell_type": "markdown",
   "metadata": {},
   "source": [
    "<div class=\"alert alert-block alert-warning\">\n",
    "<b>Please note:</b> After reading the instructions and aims of any exercise, search the code snippets for a note that reads ------'INSERT CODE HERE'------ to identify where you need to write your code \n",
    "</div>"
   ]
  },
  {
   "cell_type": "markdown",
   "metadata": {},
   "source": [
    "## 1) Loops: FOR loops continued <a name=\"Part1\">\n",
    "\n",
    "Let us jump straight into our first exercise, following on from the previous practical.\n",
    "\n",
    "<div class=\"alert alert-block alert-success\">\n",
    "<b> Exercise 1: Cycling through arrays and modifying values. <a name=\"Exercise1\">  </b> Create a loop that implements the function:\n",
    "\n",
    "\\begin{eqnarray} \n",
    "Y = X^{2.8/X}\n",
    "\\end{eqnarray}\n",
    "\n",
    "Where <code> x </code> is an array of 75 values from 11 to 85. Print the final 4 values of the <code> x </code> and <code> Y </code> array one-by-one. Your output should be:\n",
    "\n",
    "```python\n",
    "The 72nd element of x is  82\n",
    "The 72nd element of y is  1.1623843156991178\n",
    "The 73rd element of x is  83\n",
    "The 73rd element of y is  1.1607534518329277\n",
    "The 74th element of x is  84\n",
    "The 74th element of y is  1.1591580160090038\n",
    "The 75th element of x is  85\n",
    "The 75th element of y is  1.157596831308393\n",
    "```\n",
    "</div>\n"
   ]
  },
  {
   "cell_type": "code",
   "execution_count": 1,
   "metadata": {},
   "outputs": [
    {
     "name": "stdout",
     "output_type": "stream",
     "text": [
      "The 72nd element of x is  82\n",
      "The 72nd element of y is  1.1623843156991178\n",
      "The 73rd element of x is  83\n",
      "The 73rd element of y is  1.1607534518329277\n",
      "The 74th element of x is  84\n",
      "The 74th element of y is  1.1591580160090038\n",
      "The 75th element of x is  85\n",
      "The 75th element of y is  1.157596831308393\n"
     ]
    }
   ],
   "source": [
    "# Initiliase an empty list for both 'x' and 'y'\n",
    "x = []\n",
    "y = []\n",
    "\n",
    "# Now loop through 75 values and append each list accordingly.\n",
    "# One list contained values for 'x', the other 'y'.\n",
    "# Please note the operator ** is needed to raise one number to another [e.g 2**3]\n",
    "#------'INSERT CODE HERE'------\n",
    "\n",
    "\n",
    "\n",
    "\n",
    "#------------------------------\n",
    "    \n",
    "# Print the last four values from both our x and y arrays\n",
    "print(\"The 72nd element of x is \",x[71])\n",
    "print(\"The 72nd element of y is \",y[71])\n",
    "\n",
    "print(\"The 73rd element of x is \",x[72])\n",
    "print(\"The 73rd element of y is \",y[72])\n",
    "\n",
    "print(\"The 74th element of x is \",x[73])\n",
    "print(\"The 74th element of y is \",y[73])\n",
    "\n",
    "print(\"The 75th element of x is \",x[74])\n",
    "print(\"The 75th element of y is \",y[74])\n",
    "\n"
   ]
  },
  {
   "cell_type": "markdown",
   "metadata": {},
   "source": [
    "## 2) Conditional statements: The IF, ELIF and ELSE statements  <a name=\"Part2\">\n",
    "\n",
    "Once we have information stored in an array, or wish to generate information iteratively, we start to use a combination of **loops** and **conditional statements**. Conditional statements allow us to develop software that can be responsive to certain conditions. For example, in the following control flow diagram we define a set of instructions that initiate a variable and start a loop that adds 3 to this variable at each iteration. However, at each iteration we also check the value of said variable and if it becomes equals or greater than 30, we stop the program.\n",
    "\n",
    "![title <](images/if_example.png)\n",
    "\n",
    "The following table lists the Python equivalent of common mathematical symbols to check numerical values.\n",
    "\n",
    "| Meaning | Math Symbol | Python Symbols |\n",
    "| --- | --- | --- |\n",
    "| Less than\t | < | < | \n",
    "| Greater than\t | > | > | \n",
    "| Less than or equal | ≤ | <= | \n",
    "| Greater than or equal | ≥ | >= | \n",
    "| Equals | = | == | \n",
    "| Not equal | ≠ | != | \n",
    "\n",
    "<div class=\"alert alert-block alert-danger\">\n",
    "<b> Warning </b> The obvious choice for equals, a single equal sign, is not used to check for equality. It is a common error to use only one equal sign when you mean to test for equality, and not make an assignment!\n",
    "</div>\n",
    "\n",
    "How do we implement checks using these symbols? This is where we use the <code> IF </code>, <code> ELIF </code> and <code> ELSE </code> statements. Let us start with an example. \n",
    "\n",
    "```python\n",
    "# Initialise two variables with integer values\n",
    "x=3\n",
    "y=5\n",
    "# Now use an IF statement to check the relative values of x and y, then act accordingly\n",
    "if x > y:\n",
    "    print(\"X is greater than Y\")\n",
    "...    \n",
    "if x < y:\n",
    "    print(\"X is less than Y\")\n",
    "...\"X is less than Y\"\n",
    "```\n",
    "\n",
    "Once again, notice how we have introduced a statement that ends with a colon : and thus requires the next line to be indented. We also use specific symbols to check whether one value is greater than [>] or less than [<] another. Within each condition check, depending on which is true, we print a message to the screen.\n",
    "\n",
    "Rather than use two <code> IF </code> statements, we could combine these checks using an <code> ELSE </code> statement as follows:\n",
    "\n",
    "```python\n",
    "# Initialise two variables with integer values\n",
    "x=3\n",
    "y=5\n",
    "# Now use an IF statement to check the relative values of x and y, then act accordingly\n",
    "if x > y:\n",
    "    print(\"X is greater than Y\")    \n",
    "else x < y:\n",
    "    print(\"X is less than Y\")\n",
    "\"X is less than Y\"\n",
    "```\n",
    "\n",
    "There are a huge number of examples we could work on here, but to begin let us build on the first exercise. In the following code we again have two variables <code> x </code> and <code> y </code>. Each has 50 elements. Let us assume that we want to implement two functions: one that is used if our <code> x </code> value is *less than or equal* to 20, the other if <code> x </code> is *greater than* 20. We can use a combination of the <code> IF </code> and <code> ELSE </code> statements.\n",
    "\n",
    " - If $X$ is *less than or equal* to 20, $ Y = \\frac{X}{12.5} $\n",
    " - Otherwise [else], $Y = X^{12.5} $\n",
    "\n",
    "Let us see this implemented as code below. Read through the syntax and if you do not understand, please ask. \n",
    "\n",
    "\n",
    "<div class=\"alert alert-block alert-danger\">\n",
    "<b>Indexing </b> Once again, notice how we have introduced a statement that ends with a colon : and thus requires the next line to be indented. \n",
    "</div>\n"
   ]
  },
  {
   "cell_type": "code",
   "execution_count": 2,
   "metadata": {},
   "outputs": [
    {
     "name": "stdout",
     "output_type": "stream",
     "text": [
      "The 1st element of x is  1\n",
      "The 1st element of y is  0.08\n",
      "The 2nd element of x is  2\n",
      "The 2nd element of y is  0.16\n",
      "The 3rd element of x is  3\n",
      "The 3rd element of y is  0.24\n",
      "The 4th element of x is  4\n",
      "The 4th element of y is  0.32\n",
      "The 47th element of x is  47\n",
      "The 47th element of y is  7.965686757032835e+20\n",
      "The 48th element of x is  48\n",
      "The 48th element of y is  1.0363715136605023e+21\n",
      "The 49th element of x is  49\n",
      "The 49th element of y is  1.341068619663965e+21\n",
      "The 50th element of x is  50\n",
      "The 50th element of y is  1.7263349150062194e+21\n"
     ]
    }
   ],
   "source": [
    "# Initiliase an empty list for both 'x' and 'y'\n",
    "x = []\n",
    "y = []\n",
    "\n",
    "for step in range(50):\n",
    "\n",
    "    # Append a value to our x array\n",
    "    x.append(step+1)\n",
    "    \n",
    "    # Now add a conditional statement to check the value of x\n",
    "    # Notice our additional indentation\n",
    "    if x[step] <= 20:\n",
    "        # Append a value to our y array\n",
    "        y.append(x[step]/12.5)\n",
    "    else:\n",
    "        # Append a value to our y array\n",
    "        y.append(x[step]**12.5)\n",
    "    \n",
    "# Print the first and last four values from both our x and y arrays\n",
    "\n",
    "# First four\n",
    "print(\"The 1st element of x is \",x[0])\n",
    "print(\"The 1st element of y is \",y[0])\n",
    "\n",
    "print(\"The 2nd element of x is \",x[1])\n",
    "print(\"The 2nd element of y is \",y[1])\n",
    "\n",
    "print(\"The 3rd element of x is \",x[2])\n",
    "print(\"The 3rd element of y is \",y[2])\n",
    "\n",
    "print(\"The 4th element of x is \",x[3])\n",
    "print(\"The 4th element of y is \",y[3])\n",
    "\n",
    "# Last four\n",
    "print(\"The 47th element of x is \",x[46])\n",
    "print(\"The 47th element of y is \",y[46])\n",
    "\n",
    "print(\"The 48th element of x is \",x[47])\n",
    "print(\"The 48th element of y is \",y[47])\n",
    "\n",
    "print(\"The 49th element of x is \",x[48])\n",
    "print(\"The 49th element of y is \",y[48])\n",
    "\n",
    "print(\"The 50th element of x is \",x[49])\n",
    "print(\"The 50th element of y is \",y[49])\n"
   ]
  },
  {
   "cell_type": "markdown",
   "metadata": {},
   "source": [
    "### The AND statment\n",
    "\n",
    "Once we move beyond two mutually exclusive conditions, we can also use the <code> ELIF </code> statements. However we need to be careful that we are assigning correct boundaries on our conditions. For example, let us assume we have been tasked with creating an array <code> X </code> that contains values from 1 to 200 and we want to implement 3 equations according to the following rules:\n",
    "    \n",
    " - If X is less than 20, use: $ Y = \\frac{X}{1.56} $\n",
    " - If X is greater than or equal to 20, but less than 60 use: $ Y = X^{0.35} $ \n",
    " - If X is greater than or equal to 60 use: $ Y = 4.5*X $ \n",
    " \n",
    "Below we implement two different versions of a loop using the conditional statements introduced earlier:\n",
    "\n",
    "```python\n",
    "# Version 1\n",
    "if x[step] < 20:\n",
    "    <<action>>    \n",
    "elif x[step] >= 20:\n",
    "    <<action>>\n",
    "elif x[step] >= 60\n",
    "    <<action>>\n",
    "```\n",
    "```python\n",
    "# Version 2\n",
    "if x[step] < 20:\n",
    "    <<action>>    \n",
    "elif x[step] >= 20 and x[step] < 60:\n",
    "    <<action>>\n",
    "elif x[step] >= 60\n",
    "    <<action>>\n",
    "```\n",
    "\n",
    "The first version will work, but produce incorrect results. Why is that? If you follow the code instructions, as the Python interpreter would, once <code> x[step] </code> is greater than 20 the second conditional statement will always be true. As a result, it will never have to move to the third. In the second version however, the second conditional will no longer be true once <code> x[step] </code> is greater than or equal to 60. \n",
    "\n",
    "Let us run both versions and plot the results so you can see the difference. In the following code I will create two <code> Y </code> arrays, one for each loop variant. A line plot will be produced where you should see a step change in values according to these rules. Do not worry about the syntax or module used to create the plot, we will visit this throughout the course."
   ]
  },
  {
   "cell_type": "code",
   "execution_count": 1,
   "metadata": {},
   "outputs": [
    {
     "data": {
      "text/plain": [
       "Text(0.5, 0, 'X')"
      ]
     },
     "execution_count": 1,
     "metadata": {},
     "output_type": "execute_result"
    },
    {
     "data": {
      "image/png": "[encoded data removed]",
      "text/plain": [
       "<Figure size 576x576 with 1 Axes>"
      ]
     },
     "metadata": {
      "needs_background": "light"
     },
     "output_type": "display_data"
    }
   ],
   "source": [
    "# Initiliase an empty list for both 'x' and 'y'\n",
    "x = []\n",
    "y_version1 = []\n",
    "y_version2 = []\n",
    "\n",
    "for step in range(200):\n",
    "\n",
    "    # Append a value to our x array\n",
    "    x.append(step+1)\n",
    "    \n",
    "    # Version 1\n",
    "    if x[step] < 20:\n",
    "        # Append a value to our y array\n",
    "        y_version1.append(x[step]/1.56)\n",
    "    elif x[step] >= 20:\n",
    "        # Append a value to our y array\n",
    "        y_version1.append(x[step]**0.35)\n",
    "    elif x[step] >= 60:\n",
    "        y_version1.append(4.5*x[step])\n",
    "        \n",
    "    # Version 2\n",
    "    if x[step] < 20:\n",
    "        # Append a value to our y array\n",
    "        y_version2.append(x[step]/1.56)\n",
    "    elif x[step] >= 20 and x[step] < 60:\n",
    "        # Append a value to our y array\n",
    "        y_version2.append(x[step]**0.35)\n",
    "    elif x[step] >= 60:\n",
    "        y_version2.append(4.5*x[step])\n",
    "    \n",
    "# Plot results\n",
    "import matplotlib.pyplot as plt # Import Matplotlib so we can plot results\n",
    "import numpy as np # The Numpy package - more soon!!\n",
    "fig = plt.figure(figsize=(8,8))\n",
    "ax = plt.axes()\n",
    "ax.plot(np.array(x),np.log(y_version1),label='Version 1')\n",
    "ax.plot(np.array(x),np.log(y_version2),label='Version 2')\n",
    "ax.set_title('Y as a function of X')\n",
    "ax.legend(loc='upper left')\n",
    "ax.set_ylabel('Y')\n",
    "ax.set_xlabel('X')\n",
    "\n"
   ]
  },
  {
   "cell_type": "markdown",
   "metadata": {},
   "source": [
    "<div class=\"alert alert-block alert-success\">\n",
    "<b> Exercise 2: Modify a loop to implement one of three equations according to a condition being met.  <a name=\"Exercise2\"> </b> In this case, let us assume an array <code> X </code> contains values from 1 to 1000 and we want to implement 3 equations according to the following rules:\n",
    "    \n",
    " - If X is less than or equal to 250, $ Y = X^{1.03} $\n",
    " - If X is greater than 250, but less than 690 $ Y = X^{1.2} $ \n",
    " - If X is greater than or equal to 690, $ Y = X^{2.5} $ \n",
    "\n",
    "This is the first graph we have created. Do not worry about the syntax for now, we will produce graphs in every practical following this.\n",
    "\n",
    "Your output should look like the following:\n",
    "\n",
    "![Expected output from simulation](images/Practical2_example.png)\n",
    "\n",
    "\n",
    "</div>\n",
    "\n",
    "\n"
   ]
  },
  {
   "cell_type": "code",
   "execution_count": 2,
   "metadata": {},
   "outputs": [
    {
     "data": {
      "image/png": "[encoded data removed]",
      "text/plain": [
       "<Figure size 576x576 with 1 Axes>"
      ]
     },
     "metadata": {
      "needs_background": "light"
     },
     "output_type": "display_data"
    }
   ],
   "source": [
    "# Initiliase an empty list for both 'x' and 'y'\n",
    "x = []\n",
    "y = []\n",
    "\n",
    "for step in range(1000):\n",
    "\n",
    "    # Append a value to our x array\n",
    "    x.append(step+1)\n",
    "    \n",
    "    #------'INSERT CODE HERE'------\n",
    "    # Now add a conditional statement to check the value of x\n",
    "    # Notice the additional indentation\n",
    "    \n",
    "    \n",
    "    \n",
    "    #------------------------------\n",
    "    \n",
    "# Print the first and last four values from both our x and y arrays\n",
    "\n",
    "#Import plotting package\n",
    "import matplotlib.pyplot as plt # Import Matplotlib so we can plot results\n",
    "import numpy as np # The Numpy package - more soon!!\n",
    "fig = plt.figure(figsize=(8,8))\n",
    "ax = plt.axes()\n",
    "ax.plot(np.array(x),np.log(y))\n",
    "ax.set_title('Y as a function of X')\n",
    "ax.set_ylabel('Y')\n",
    "ax.set_xlabel('X')\n",
    "plt.show()"
   ]
  },
  {
   "cell_type": "markdown",
   "metadata": {},
   "source": [
    "## 3) Nested loops: Working with more than 1 dimension <a name=\"Part3\">\n",
    "\n",
    "In many applications we want to work with more than one variable at a time, often in a two [or more] dimensional setting. We can combine <code> FOR </code> loops on any number of levels. For example, take the following hypothetical example:\n",
    "\n",
    "```python\n",
    "for [first iterating variable] in [outer loop]: # Outer loop\n",
    "    [do something]  # Optional\n",
    "    for [second iterating variable] in [nested loop]:   # Nested loop\n",
    "        [do something]  \n",
    "```\n",
    "\n",
    "Notice how we have our first, or 'outer' loop cycling through our first iterating variable. As we cycle through this variable, we then 'do something' as a direct consequence. However, directly following this action, we cycle through a second iterating variable as part of our 'nested loop'. In other words, we have a loop that is nested within our first, or outer. \n",
    "\n",
    "<div class=\"alert alert-block alert-danger\">\n",
    "<b>Indexing </b> Once again, notice how we have introduced a statement that ends with a colon : and thus requires the next line to be indented. \n",
    "</div>\n",
    "\n",
    "Let us run an example of cycling through a list of words. In this case we are not using the \n",
    "```python \n",
    "range() \n",
    "```\n",
    "function as we are not dealing with numeric examples or cycling through integers."
   ]
  },
  {
   "cell_type": "code",
   "execution_count": 7,
   "metadata": {},
   "outputs": [
    {
     "name": "stdout",
     "output_type": "stream",
     "text": [
      "Hello\n",
      "George\n",
      "Hello\n",
      "Frank\n",
      "Hello\n",
      "Susan\n",
      "Hello\n",
      "Sarah\n",
      "Goodbye\n",
      "George\n",
      "Goodbye\n",
      "Frank\n",
      "Goodbye\n",
      "Susan\n",
      "Goodbye\n",
      "Sarah\n"
     ]
    }
   ],
   "source": [
    "# Create two lists of words\n",
    "list1 = ['Hello','Goodbye']\n",
    "list2 = ['George','Frank','Susan','Sarah']\n",
    "\n",
    "for word1 in list1:\n",
    "    for word2 in list2:\n",
    "        print(word1)\n",
    "        print(word2)\n",
    "        "
   ]
  },
  {
   "cell_type": "markdown",
   "metadata": {},
   "source": [
    "Turns out we can make the output easier to read by adding each word together, with a space ' ' in between as:"
   ]
  },
  {
   "cell_type": "code",
   "execution_count": 9,
   "metadata": {},
   "outputs": [
    {
     "name": "stdout",
     "output_type": "stream",
     "text": [
      "Hello George\n",
      "Hello Frank\n",
      "Hello Susan\n",
      "Hello Sarah\n",
      "Goodbye George\n",
      "Goodbye Frank\n",
      "Goodbye Susan\n",
      "Goodbye Sarah\n"
     ]
    }
   ],
   "source": [
    "# Create two lists of words\n",
    "list1 = ['Hello','Goodbye']\n",
    "list2 = ['George','Frank','Susan','Sarah']\n",
    "\n",
    "for word1 in list1:\n",
    "    for word2 in list2:\n",
    "        print(word1+' '+word2)"
   ]
  },
  {
   "cell_type": "markdown",
   "metadata": {},
   "source": [
    "We will not be exploring the rich text processing power of Python in this course, but if you are interested there are some great examples to follow on the [internet](https://towardsdatascience.com/gentle-start-to-natural-language-processing-using-python-6e46c07addf3). The important lesson here is noticing how we deal with a nested loop. Please also note that we can use a <code> FOR </code> loop to iterate on members of any list, whether they are numeric or string values.\n",
    "\n",
    "Again we can use conditional statements to modify our output. What if we only wanted to output entries involving Susan? We can add a conditional statement as follows: "
   ]
  },
  {
   "cell_type": "code",
   "execution_count": 10,
   "metadata": {},
   "outputs": [
    {
     "name": "stdout",
     "output_type": "stream",
     "text": [
      "Hello Susan\n",
      "Goodbye Susan\n"
     ]
    }
   ],
   "source": [
    "# Create two lists of words\n",
    "list1 = ['Hello','Goodbye']\n",
    "list2 = ['George','Frank','Susan','Sarah']\n",
    "\n",
    "for word1 in list1:\n",
    "    for word2 in list2:\n",
    "        if word2 == \"Susan\":\n",
    "            print(word1+' '+word2)"
   ]
  },
  {
   "cell_type": "markdown",
   "metadata": {},
   "source": [
    "<div class=\"alert alert-block alert-success\">\n",
    "<b> Exercise 3: Print out the result from a nested loop according to a condition being met  <a name=\"Exercise3\"> </b> \n",
    "    \n",
    "In this exercise we have three lists with the following entries:\n",
    "    \n",
    "```python\n",
    " list1 = ['Maths','Physics','Programming','Chemistry']\n",
    " list2 = ['is','can be','is not']    \n",
    " list3 = ['enjoyable','awful!','ok, I guess','....']    \n",
    "```\n",
    "    \n",
    "Your task is to create a triple nested loop and only print out when the word in list1 is 'Physics' and the entry in list2 is 'can be'.\n",
    "There are multiple ways to achieve this.\n",
    "\n",
    "Your results should look like the following:\n",
    "\n",
    "```python\n",
    "Physics can be enjoyable\n",
    "Physics can be awful!\n",
    "Physics can be ok, I guess\n",
    "Physics can be ....\n",
    "```\n",
    "\n",
    "</div>\n",
    "\n"
   ]
  },
  {
   "cell_type": "code",
   "execution_count": 12,
   "metadata": {},
   "outputs": [
    {
     "name": "stdout",
     "output_type": "stream",
     "text": [
      "Physics can be enjoyable\n",
      "Physics can be awful!\n",
      "Physics can be ok, I guess\n",
      "Physics can be ....\n"
     ]
    }
   ],
   "source": [
    "# Create three lists of words\n",
    "\n",
    "#------'INSERT CODE HERE'------\n",
    "list1 = ['Maths','Physics','Programming','Chemistry']\n",
    "list2 = ['is','can be','is not']    \n",
    "list3 = ['enjoyable','awful!','ok, I guess','....']    \n",
    "\n",
    "# First loop\n",
    " \n",
    "    # Second loop\n",
    "\n",
    "        # Third loop\n",
    "         \n",
    "            \n",
    "#------------------------------"
   ]
  },
  {
   "cell_type": "markdown",
   "metadata": {},
   "source": [
    "<div class=\"alert alert-block alert-success\">\n",
    "<b> Exercise 4: Print out which variables match a condition  <a name=\"Exercise4\"> </b> \n",
    "    \n",
    "In this exercise we have two variables, <code> x </code> and <code> y </code> taking on a value from two loops that cycle through 80 values.\n",
    "\n",
    "```python\n",
    "for x in range(80):\n",
    "    for y in range(80):\n",
    "        [do something]\n",
    "```\n",
    "\n",
    "Your task is to identify which combinations of <code> x </code> and <code> y </code> through the function:\n",
    "\n",
    "\\begin{eqnarray} \n",
    "Z = Y+X^{2}\n",
    "\\end{eqnarray}\n",
    "\n",
    "produce a value of <code> Z </code> = 80\n",
    "\n",
    "</div>\n"
   ]
  },
  {
   "cell_type": "code",
   "execution_count": 17,
   "metadata": {},
   "outputs": [
    {
     "name": "stdout",
     "output_type": "stream",
     "text": [
      "x =  1\n",
      "y =  79\n",
      "x =  2\n",
      "y =  76\n",
      "x =  3\n",
      "y =  71\n",
      "x =  4\n",
      "y =  64\n",
      "x =  5\n",
      "y =  55\n",
      "x =  6\n",
      "y =  44\n",
      "x =  7\n",
      "y =  31\n",
      "x =  8\n",
      "y =  16\n"
     ]
    }
   ],
   "source": [
    "#------'INSERT CODE HERE'------\n",
    "\n",
    "\n",
    "#------------------------------"
   ]
  },
  {
   "cell_type": "markdown",
   "metadata": {},
   "source": [
    "<div class=\"alert alert-block alert-success\">\n",
    "<b> Exercise 5: Repeat Bob Newby's code breaking nested loops to crack the code in the Hawkins lab <a name=\"Exercise5\"> </b> \n",
    "    \n",
    "In this exercise we imagine that we are tasked with finding the value of a password that is different everytime the program is executed. This will be generated by an internal Python function and used to create a string which has 5 numbers in it. We then have to create a 5 level nested loop to combine 5 different numbers into one word and when this matches the one generated by the internal Python function the attempted, thus correct, password is printed to the screen.\n",
    "\n",
    "The code box below provides you with indentend lines in which to enter the rest of the code required. The first loop is provided. As part of the 5th loop you will need to combine all of the individual numbers, as strings, into one word and then check if this is the same as the internally generated password. You can use the following commands for this, assuming that you call each letter as letter1, letter2 etc.\n",
    "\n",
    "```python\n",
    "password_attempt = letter1+letter2+letter3+letter4+letter5\n",
    "if password_attempt == password_string:\n",
    "    print(\"Passwords match!, attempted password = \",password_attempt)\n",
    "```\n",
    "\n",
    "Once you have finished, why not see how many steps have been taken to arrive at the correct password? Also, in the current version the loops will carry on even after the condition has been met.\n",
    "\n",
    "</div>"
   ]
  },
  {
   "cell_type": "code",
   "execution_count": 3,
   "metadata": {},
   "outputs": [
    {
     "name": "stdout",
     "output_type": "stream",
     "text": [
      "password =  84713\n",
      "Passwords match!, attempted password =  84713\n"
     ]
    }
   ],
   "source": [
    "# The following imports a module [see Practical 3] and then creates a string of a random number of 5 digits\n",
    "from random import randint\n",
    "n=5\n",
    "password_string = ''.join([\"{}\".format(randint(0, 9)) for num in range(0, 5)])\n",
    "print(\"password = \", password_string)\n",
    "\n",
    "# Now create a 5 level nested loop which prints when the successful password has been met\n",
    "\n",
    "#------'INSERT CODE HERE'------\n",
    "\n",
    "# First loop\n",
    "for step1 in range(10):\n",
    "    letter1 = str(step1) # Convert number to a string\n",
    "    # Second loop\n",
    "     \n",
    "        # Third loop\n",
    "         \n",
    "            # Fourth loop\n",
    "             \n",
    "                # Fifth loop\n",
    "                 \n",
    "                        \n",
    "#------------------------------"
   ]
  },
  {
   "cell_type": "code",
   "execution_count": null,
   "metadata": {},
   "outputs": [],
   "source": []
  }
 ],
 "metadata": {
  "kernelspec": {
   "display_name": "Python 3",
   "language": "python",
   "name": "python3"
  },
  "language_info": {
   "codemirror_mode": {
    "name": "ipython",
    "version": 3
   },
   "file_extension": ".py",
   "mimetype": "text/x-python",
   "name": "python",
   "nbconvert_exporter": "python",
   "pygments_lexer": "ipython3",
   "version": "3.7.6"
  }
 },
 "nbformat": 4,
 "nbformat_minor": 2
}
